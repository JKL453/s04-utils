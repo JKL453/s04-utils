{
 "cells": [
  {
   "cell_type": "code",
   "execution_count": 1,
   "metadata": {},
   "outputs": [
    {
     "name": "stdout",
     "output_type": "stream",
     "text": [
      "[16/Aug/2023 15:11:34] INFO - Starting papermill\n",
      "['img_eGFP_33nm_NaP_100mM_ph7dot5_Treh7dot5_20uW_77K_circpol_003.img', 'img_eGFP_33nm_NaP_100mM_ph7dot5_Treh7dot5_20uW_77K_circpol_002.img', 'img_eGFP_33nm_NaP_100mM_ph7dot5_Treh7dot5_20uW_77K_circpol_001.img', 'img_eGFP_33nm_NaP_100mM_ph7dot5_Treh7dot5_20uW_77K_circpol_005.img', 'img_eGFP_33nm_NaP_100mM_ph7dot5_Treh7dot5_20uW_77K_circpol_004.img', 'img_eGFP_33nm_NaP_100mM_ph7dot5_Treh7dot5_20uW_77K_circpol_006.img', 'img_eGFP_33nm_NaP_100mM_ph7dot5_Treh7dot5_20uW_77K_circpol_007.img']\n",
      "[16/Aug/2023 15:11:34] INFO - Running papermill for img_eGFP_33nm_NaP_100mM_ph7dot5_Treh7dot5_20uW_77K_circpol_003.img\n",
      "[16/Aug/2023 15:11:34] INFO - Input Notebook:  spot-analysis.ipynb\n",
      "[16/Aug/2023 15:11:34] INFO - Output Notebook: papermill-test-img_eGFP_33nm_NaP_100mM_ph7dot5_Treh7dot5_20uW_77K_circpol_003.img.ipynb\n",
      "[16/Aug/2023 15:11:34] WARNING - Black is not installed, parameters wont be formatted\n"
     ]
    },
    {
     "data": {
      "application/vnd.jupyter.widget-view+json": {
       "model_id": "1f90bb571fd441afb3983c27d693c916",
       "version_major": 2,
       "version_minor": 0
      },
      "text/plain": [
       "Executing:   0%|          | 0/12 [00:00<?, ?cell/s]"
      ]
     },
     "metadata": {},
     "output_type": "display_data"
    },
    {
     "name": "stderr",
     "output_type": "stream",
     "text": [
      "0.00s - Debugger warning: It seems that frozen modules are being used, which may\n",
      "0.00s - make the debugger miss breakpoints. Please pass -Xfrozen_modules=off\n",
      "0.00s - to python to disable frozen modules.\n",
      "0.00s - Note: Debugging will proceed. Set PYDEVD_DISABLE_FILE_VALIDATION=1 to disable this validation.\n"
     ]
    },
    {
     "name": "stdout",
     "output_type": "stream",
     "text": [
      "[16/Aug/2023 15:11:35] INFO - Executing notebook with kernel: python3\n"
     ]
    },
    {
     "ename": "PapermillExecutionError",
     "evalue": "\n---------------------------------------------------------------------------\nException encountered at \"In [9]\":\n---------------------------------------------------------------------------\nKeyError                                  Traceback (most recent call last)\nCell In[9], line 4\n      1 blobs_log = blob_data\n      2 blobs = []\n----> 4 image_array = im.data['APD1'] + im.data['APD2']\n      6 for blob in blobs_log:\n      7     # Get blob coordinates and radius\n      8     y, x, r = blob\n\nKeyError: 'APD1'\n",
     "output_type": "error",
     "traceback": [
      "\u001b[0;31m---------------------------------------------------------------------------\u001b[0m",
      "\u001b[0;31mPapermillExecutionError\u001b[0m                   Traceback (most recent call last)",
      "\u001b[1;32m/Users/kappel/Documents/Programming/python-projects/s04utils/papermill-test.ipynb Zelle 1\u001b[0m line \u001b[0;36m1\n\u001b[1;32m     <a href='vscode-notebook-cell:/Users/kappel/Documents/Programming/python-projects/s04utils/papermill-test.ipynb#W0sZmlsZQ%3D%3D?line=13'>14</a>\u001b[0m \u001b[39mfor\u001b[39;00m file \u001b[39min\u001b[39;00m files:\n\u001b[1;32m     <a href='vscode-notebook-cell:/Users/kappel/Documents/Programming/python-projects/s04utils/papermill-test.ipynb#W0sZmlsZQ%3D%3D?line=14'>15</a>\u001b[0m     logger\u001b[39m.\u001b[39minfo(\u001b[39m\"\u001b[39m\u001b[39mRunning papermill for \u001b[39m\u001b[39m{}\u001b[39;00m\u001b[39m\"\u001b[39m\u001b[39m.\u001b[39mformat(file))\n\u001b[0;32m---> <a href='vscode-notebook-cell:/Users/kappel/Documents/Programming/python-projects/s04utils/papermill-test.ipynb#W0sZmlsZQ%3D%3D?line=15'>16</a>\u001b[0m     pm\u001b[39m.\u001b[39;49mexecute_notebook(\n\u001b[1;32m     <a href='vscode-notebook-cell:/Users/kappel/Documents/Programming/python-projects/s04utils/papermill-test.ipynb#W0sZmlsZQ%3D%3D?line=16'>17</a>\u001b[0m         input_path \u001b[39m=\u001b[39;49m \u001b[39m\"\u001b[39;49m\u001b[39mspot-analysis.ipynb\u001b[39;49m\u001b[39m\"\u001b[39;49m,\n\u001b[1;32m     <a href='vscode-notebook-cell:/Users/kappel/Documents/Programming/python-projects/s04utils/papermill-test.ipynb#W0sZmlsZQ%3D%3D?line=17'>18</a>\u001b[0m         output_path \u001b[39m=\u001b[39;49m \u001b[39m\"\u001b[39;49m\u001b[39mpapermill-test-\u001b[39;49m\u001b[39m{}\u001b[39;49;00m\u001b[39m.ipynb\u001b[39;49m\u001b[39m\"\u001b[39;49m\u001b[39m.\u001b[39;49mformat(file),\n\u001b[1;32m     <a href='vscode-notebook-cell:/Users/kappel/Documents/Programming/python-projects/s04utils/papermill-test.ipynb#W0sZmlsZQ%3D%3D?line=18'>19</a>\u001b[0m         parameters\u001b[39m=\u001b[39;49m\u001b[39mdict\u001b[39;49m(\n\u001b[1;32m     <a href='vscode-notebook-cell:/Users/kappel/Documents/Programming/python-projects/s04utils/papermill-test.ipynb#W0sZmlsZQ%3D%3D?line=19'>20</a>\u001b[0m             \u001b[39m# join SOURCE_PATH and file name\u001b[39;49;00m\n\u001b[1;32m     <a href='vscode-notebook-cell:/Users/kappel/Documents/Programming/python-projects/s04utils/papermill-test.ipynb#W0sZmlsZQ%3D%3D?line=20'>21</a>\u001b[0m             SOURCE_IMAGE_PATH \u001b[39m=\u001b[39;49m os\u001b[39m.\u001b[39;49mpath\u001b[39m.\u001b[39;49mjoin(SOURCE_PATH, file)\n\u001b[1;32m     <a href='vscode-notebook-cell:/Users/kappel/Documents/Programming/python-projects/s04utils/papermill-test.ipynb#W0sZmlsZQ%3D%3D?line=21'>22</a>\u001b[0m         )\n\u001b[1;32m     <a href='vscode-notebook-cell:/Users/kappel/Documents/Programming/python-projects/s04utils/papermill-test.ipynb#W0sZmlsZQ%3D%3D?line=22'>23</a>\u001b[0m     )\n",
      "File \u001b[0;32m/opt/homebrew/lib/python3.11/site-packages/papermill/execute.py:128\u001b[0m, in \u001b[0;36mexecute_notebook\u001b[0;34m(input_path, output_path, parameters, engine_name, request_save_on_cell_execute, prepare_only, kernel_name, language, progress_bar, log_output, stdout_file, stderr_file, start_timeout, report_mode, cwd, **engine_kwargs)\u001b[0m\n\u001b[1;32m    113\u001b[0m         nb \u001b[39m=\u001b[39m papermill_engines\u001b[39m.\u001b[39mexecute_notebook_with_engine(\n\u001b[1;32m    114\u001b[0m             engine_name,\n\u001b[1;32m    115\u001b[0m             nb,\n\u001b[0;32m   (...)\u001b[0m\n\u001b[1;32m    124\u001b[0m             \u001b[39m*\u001b[39m\u001b[39m*\u001b[39mengine_kwargs\n\u001b[1;32m    125\u001b[0m         )\n\u001b[1;32m    127\u001b[0m     \u001b[39m# Check for errors first (it saves on error before raising)\u001b[39;00m\n\u001b[0;32m--> 128\u001b[0m     raise_for_execution_errors(nb, output_path)\n\u001b[1;32m    130\u001b[0m \u001b[39m# Write final output in case the engine didn't write it on cell completion.\u001b[39;00m\n\u001b[1;32m    131\u001b[0m write_ipynb(nb, output_path)\n",
      "File \u001b[0;32m/opt/homebrew/lib/python3.11/site-packages/papermill/execute.py:232\u001b[0m, in \u001b[0;36mraise_for_execution_errors\u001b[0;34m(nb, output_path)\u001b[0m\n\u001b[1;32m    229\u001b[0m nb\u001b[39m.\u001b[39mcells\u001b[39m.\u001b[39minsert(\u001b[39m0\u001b[39m, error_msg_cell)\n\u001b[1;32m    231\u001b[0m write_ipynb(nb, output_path)\n\u001b[0;32m--> 232\u001b[0m \u001b[39mraise\u001b[39;00m error\n",
      "\u001b[0;31mPapermillExecutionError\u001b[0m: \n---------------------------------------------------------------------------\nException encountered at \"In [9]\":\n---------------------------------------------------------------------------\nKeyError                                  Traceback (most recent call last)\nCell In[9], line 4\n      1 blobs_log = blob_data\n      2 blobs = []\n----> 4 image_array = im.data['APD1'] + im.data['APD2']\n      6 for blob in blobs_log:\n      7     # Get blob coordinates and radius\n      8     y, x, r = blob\n\nKeyError: 'APD1'\n"
     ]
    }
   ],
   "source": [
    "import os\n",
    "import papermill as pm\n",
    "from logger import logger\n",
    "\n",
    "logger.info(\"Starting papermill\")\n",
    "\n",
    "SOURCE_PATH = \"/Users/kappel/Messungen/Setup04/JaKa/post_hack/23_08_09/77K-33nM-eGFP-vitrified/20uW/images/\"\n",
    "\n",
    "# Get list of files with extension .img from SOURCE_PATH\n",
    "files = [file for file in os.listdir(SOURCE_PATH) if file.endswith(\".img\")]\n",
    "print(files)\n",
    "\n",
    "# Iterate over files and run papermill\n",
    "for file in files:\n",
    "    logger.info(\"Running papermill for {}\".format(file))\n",
    "    pm.execute_notebook(\n",
    "        input_path = \"spot-analysis.ipynb\",\n",
    "        output_path = \"papermill-test-{}.ipynb\".format(file),\n",
    "        parameters=dict(\n",
    "            # join SOURCE_PATH and file name\n",
    "            SOURCE_IMAGE_PATH = os.path.join(SOURCE_PATH, file)\n",
    "        )\n",
    "    )"
   ]
  }
 ],
 "metadata": {
  "kernelspec": {
   "display_name": "Python 3",
   "language": "python",
   "name": "python3"
  },
  "language_info": {
   "codemirror_mode": {
    "name": "ipython",
    "version": 3
   },
   "file_extension": ".py",
   "mimetype": "text/x-python",
   "name": "python",
   "nbconvert_exporter": "python",
   "pygments_lexer": "ipython3",
   "version": "3.11.4"
  },
  "orig_nbformat": 4
 },
 "nbformat": 4,
 "nbformat_minor": 2
}
