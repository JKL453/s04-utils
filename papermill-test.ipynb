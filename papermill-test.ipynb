{
 "cells": [
  {
   "cell_type": "code",
   "execution_count": 185,
   "metadata": {},
   "outputs": [],
   "source": [
    "# Load modules\n",
    "import os\n",
    "import papermill as pm\n",
    "from logger import logger\n",
    "import scrapbook as sb\n",
    "import pandas as pd\n",
    "from ipyfilechooser import FileChooser "
   ]
  },
  {
   "cell_type": "code",
   "execution_count": 186,
   "metadata": {},
   "outputs": [
    {
     "data": {
      "text/html": [
       "<style>\n",
       ".cell-output-ipywidget-background {\n",
       "   background-color: transparent !important;\n",
       "}\n",
       ".jp-OutputArea-output {\n",
       "   background-color: transparent;\n",
       "};\n"
      ],
      "text/plain": [
       "<IPython.core.display.HTML object>"
      ]
     },
     "metadata": {},
     "output_type": "display_data"
    }
   ],
   "source": [
    "%%html\n",
    "<style>\n",
    ".cell-output-ipywidget-background {\n",
    "   background-color: transparent !important;\n",
    "}\n",
    ".jp-OutputArea-output {\n",
    "   background-color: transparent;\n",
    "};"
   ]
  },
  {
   "cell_type": "markdown",
   "metadata": {},
   "source": [
    "### Choose source directory\n",
    "Select a folder that contains scan images (.img files)."
   ]
  },
  {
   "cell_type": "code",
   "execution_count": 187,
   "metadata": {},
   "outputs": [
    {
     "name": "stdout",
     "output_type": "stream",
     "text": [
      "Select a file to load\n"
     ]
    },
    {
     "data": {
      "application/vnd.jupyter.widget-view+json": {
       "model_id": "ac610f89977545b3a7805517dcdeb76c",
       "version_major": 2,
       "version_minor": 0
      },
      "text/plain": [
       "FileChooser(path='/Users/kappel/Documents/Programming/python-projects/s04utils', filename='', title='', show_h…"
      ]
     },
     "metadata": {},
     "output_type": "display_data"
    }
   ],
   "source": [
    "# Choose source folder that contains images (.img files)\n",
    "fc = FileChooser()\n",
    "fc.show_only_dirs = True\n",
    "print(\"Select a file to load\")\n",
    "# Wait for the user to make a selection\n",
    "while fc.selected_path == '':\n",
    "    pass\n",
    "display(fc)"
   ]
  },
  {
   "cell_type": "code",
   "execution_count": 188,
   "metadata": {},
   "outputs": [],
   "source": [
    "# Set SOURCE_PATH\n",
    "SOURCE_PATH = \"/Users/kappel/Messungen/Setup04/JaKa/post_hack/23_08_07/77K-16nM-eGFP-vitrified/10uW/images/\"\n",
    "#SOURCE_PATH = fc.selected_path"
   ]
  },
  {
   "cell_type": "markdown",
   "metadata": {},
   "source": [
    "### Choose a notebook to run\n",
    "This notebook will be run on all image files in the chosen source directory.\n",
    "In the following, the notebook is hard coded for now."
   ]
  },
  {
   "cell_type": "code",
   "execution_count": 189,
   "metadata": {},
   "outputs": [],
   "source": [
    "# Set directory of notebook to run\n",
    "SOURCE_NOTEBOOK_PATH = 'spot-analysis.ipynb'"
   ]
  },
  {
   "cell_type": "code",
   "execution_count": 190,
   "metadata": {},
   "outputs": [
    {
     "name": "stdout",
     "output_type": "stream",
     "text": [
      "[18/Aug/2023 17:35:56] INFO - Starting papermill\n",
      "['img_eGFP_16dot5nm_NaP_100mM_ph7dot5_Treh7dot5_10uW_77K_circpol_012.img', 'img_eGFP_16dot5nm_NaP_100mM_ph7dot5_Treh7dot5_10uW_77K_circpol_006.img', 'img_eGFP_16dot5nm_NaP_100mM_ph7dot5_Treh7dot5_10uW_77K_circpol_007.img', 'img_eGFP_16dot5nm_NaP_100mM_ph7dot5_Treh7dot5_10uW_77K_circpol_013.img', 'img_eGFP_16dot5nm_NaP_100mM_ph7dot5_Treh7dot5_10uW_77K_circpol_005.img', 'img_eGFP_16dot5nm_NaP_100mM_ph7dot5_Treh7dot5_10uW_77K_circpol_011.img', 'img_eGFP_16dot5nm_NaP_100mM_ph7dot5_Treh7dot5_10uW_77K_circpol_038.img', 'img_eGFP_16dot5nm_NaP_100mM_ph7dot5_Treh7dot5_10uW_77K_circpol_010.img', 'img_eGFP_16dot5nm_NaP_100mM_ph7dot5_Treh7dot5_10uW_77K_circpol_004.img', 'img_eGFP_16dot5nm_NaP_100mM_ph7dot5_Treh7dot5_10uW_77K_circpol_028.img', 'img_eGFP_16dot5nm_NaP_100mM_ph7dot5_Treh7dot5_10uW_77K_circpol_014.img', 'img_eGFP_16dot5nm_NaP_100mM_ph7dot5_Treh7dot5_10uW_77K_circpol_015.img', 'img_eGFP_16dot5nm_NaP_100mM_ph7dot5_Treh7dot5_10uW_77K_circpol_001.img', 'img_eGFP_16dot5nm_NaP_100mM_ph7dot5_Treh7dot5_10uW_77K_circpol_029.img', 'img_eGFP_16dot5nm_NaP_100mM_ph7dot5_Treh7dot5_10uW_77K_circpol_017.img', 'img_eGFP_16dot5nm_NaP_100mM_ph7dot5_Treh7dot5_10uW_77K_circpol_003.img', 'img_eGFP_16dot5nm_NaP_100mM_ph7dot5_Treh7dot5_10uW_77K_circpol_002.img', 'img_eGFP_16dot5nm_NaP_100mM_ph7dot5_Treh7dot5_10uW_77K_circpol_016.img', 'img_eGFP_16dot5nm_NaP_100mM_ph7dot5_Treh7dot5_10uW_77K_circpol_033.img', 'img_eGFP_16dot5nm_NaP_100mM_ph7dot5_Treh7dot5_10uW_77K_circpol_027.img', 'img_eGFP_16dot5nm_NaP_100mM_ph7dot5_Treh7dot5_10uW_77K_circpol_026.img', 'img_eGFP_16dot5nm_NaP_100mM_ph7dot5_Treh7dot5_10uW_77K_circpol_032.img', 'img_eGFP_16dot5nm_NaP_100mM_ph7dot5_Treh7dot5_10uW_77K_circpol_024.img', 'img_eGFP_16dot5nm_NaP_100mM_ph7dot5_Treh7dot5_10uW_77K_circpol_030.img', 'img_eGFP_16dot5nm_NaP_100mM_ph7dot5_Treh7dot5_10uW_77K_circpol_018.img', 'img_eGFP_16dot5nm_NaP_100mM_ph7dot5_Treh7dot5_10uW_77K_circpol_019.img', 'img_eGFP_16dot5nm_NaP_100mM_ph7dot5_Treh7dot5_10uW_77K_circpol_031.img', 'img_eGFP_16dot5nm_NaP_100mM_ph7dot5_Treh7dot5_10uW_77K_circpol_025.img', 'img_eGFP_16dot5nm_NaP_100mM_ph7dot5_Treh7dot5_10uW_77K_circpol_009.img', 'img_eGFP_16dot5nm_NaP_100mM_ph7dot5_Treh7dot5_10uW_77K_circpol_021.img', 'img_eGFP_16dot5nm_NaP_100mM_ph7dot5_Treh7dot5_10uW_77K_circpol_035.img', 'img_eGFP_16dot5nm_NaP_100mM_ph7dot5_Treh7dot5_10uW_77K_circpol_034.img', 'img_eGFP_16dot5nm_NaP_100mM_ph7dot5_Treh7dot5_10uW_77K_circpol_020.img', 'img_eGFP_16dot5nm_NaP_100mM_ph7dot5_Treh7dot5_10uW_77K_circpol_008.img', 'img_eGFP_16dot5nm_NaP_100mM_ph7dot5_Treh7dot5_10uW_77K_circpol_036.img', 'img_eGFP_16dot5nm_NaP_100mM_ph7dot5_Treh7dot5_10uW_77K_circpol_022.img', 'img_eGFP_16dot5nm_NaP_100mM_ph7dot5_Treh7dot5_10uW_77K_circpol_023.img', 'img_eGFP_16dot5nm_NaP_100mM_ph7dot5_Treh7dot5_10uW_77K_circpol_037.img']\n",
      "[18/Aug/2023 17:35:56] INFO - Running papermill for img_eGFP_16dot5nm_NaP_100mM_ph7dot5_Treh7dot5_10uW_77K_circpol_012.img\n",
      "[18/Aug/2023 17:35:56] INFO - Input Notebook:  spot-analysis.ipynb\n",
      "[18/Aug/2023 17:35:56] INFO - Output Notebook: ../s04utils/papermill-test-nbs/papermill-test-img_eGFP_16dot5nm_NaP_100mM_ph7dot5_Treh7dot5_10uW_77K_circpol_012.img.ipynb\n",
      "[18/Aug/2023 17:35:56] WARNING - Black is not installed, parameters wont be formatted\n"
     ]
    },
    {
     "data": {
      "application/vnd.jupyter.widget-view+json": {
       "model_id": "523161789ab14a7d97d68a25f668f5ef",
       "version_major": 2,
       "version_minor": 0
      },
      "text/plain": [
       "Executing:   0%|          | 0/19 [00:00<?, ?cell/s]"
      ]
     },
     "metadata": {},
     "output_type": "display_data"
    },
    {
     "name": "stdout",
     "output_type": "stream",
     "text": [
      "[18/Aug/2023 17:35:57] INFO - Executing notebook with kernel: python3\n",
      "[18/Aug/2023 17:36:03] INFO - Running papermill for img_eGFP_16dot5nm_NaP_100mM_ph7dot5_Treh7dot5_10uW_77K_circpol_006.img\n",
      "[18/Aug/2023 17:36:03] INFO - Input Notebook:  spot-analysis.ipynb\n",
      "[18/Aug/2023 17:36:03] INFO - Output Notebook: ../s04utils/papermill-test-nbs/papermill-test-img_eGFP_16dot5nm_NaP_100mM_ph7dot5_Treh7dot5_10uW_77K_circpol_006.img.ipynb\n",
      "[18/Aug/2023 17:36:03] WARNING - Black is not installed, parameters wont be formatted\n"
     ]
    },
    {
     "data": {
      "application/vnd.jupyter.widget-view+json": {
       "model_id": "1a377dc567734d918938371009d6850d",
       "version_major": 2,
       "version_minor": 0
      },
      "text/plain": [
       "Executing:   0%|          | 0/19 [00:00<?, ?cell/s]"
      ]
     },
     "metadata": {},
     "output_type": "display_data"
    },
    {
     "name": "stdout",
     "output_type": "stream",
     "text": [
      "[18/Aug/2023 17:36:04] INFO - Executing notebook with kernel: python3\n",
      "[18/Aug/2023 17:36:09] INFO - Running papermill for img_eGFP_16dot5nm_NaP_100mM_ph7dot5_Treh7dot5_10uW_77K_circpol_007.img\n",
      "[18/Aug/2023 17:36:09] INFO - Input Notebook:  spot-analysis.ipynb\n",
      "[18/Aug/2023 17:36:09] INFO - Output Notebook: ../s04utils/papermill-test-nbs/papermill-test-img_eGFP_16dot5nm_NaP_100mM_ph7dot5_Treh7dot5_10uW_77K_circpol_007.img.ipynb\n",
      "[18/Aug/2023 17:36:09] WARNING - Black is not installed, parameters wont be formatted\n"
     ]
    },
    {
     "data": {
      "application/vnd.jupyter.widget-view+json": {
       "model_id": "8528448e97a74e2abcfe61bc74566197",
       "version_major": 2,
       "version_minor": 0
      },
      "text/plain": [
       "Executing:   0%|          | 0/19 [00:00<?, ?cell/s]"
      ]
     },
     "metadata": {},
     "output_type": "display_data"
    },
    {
     "name": "stdout",
     "output_type": "stream",
     "text": [
      "[18/Aug/2023 17:36:10] INFO - Executing notebook with kernel: python3\n",
      "[18/Aug/2023 17:36:15] INFO - Running papermill for img_eGFP_16dot5nm_NaP_100mM_ph7dot5_Treh7dot5_10uW_77K_circpol_013.img\n",
      "[18/Aug/2023 17:36:15] INFO - Input Notebook:  spot-analysis.ipynb\n",
      "[18/Aug/2023 17:36:15] INFO - Output Notebook: ../s04utils/papermill-test-nbs/papermill-test-img_eGFP_16dot5nm_NaP_100mM_ph7dot5_Treh7dot5_10uW_77K_circpol_013.img.ipynb\n",
      "[18/Aug/2023 17:36:15] WARNING - Black is not installed, parameters wont be formatted\n"
     ]
    },
    {
     "data": {
      "application/vnd.jupyter.widget-view+json": {
       "model_id": "a722ef0d70894b81a130731d18351fbb",
       "version_major": 2,
       "version_minor": 0
      },
      "text/plain": [
       "Executing:   0%|          | 0/19 [00:00<?, ?cell/s]"
      ]
     },
     "metadata": {},
     "output_type": "display_data"
    },
    {
     "name": "stdout",
     "output_type": "stream",
     "text": [
      "[18/Aug/2023 17:36:16] INFO - Executing notebook with kernel: python3\n",
      "[18/Aug/2023 17:36:21] INFO - Running papermill for img_eGFP_16dot5nm_NaP_100mM_ph7dot5_Treh7dot5_10uW_77K_circpol_005.img\n",
      "[18/Aug/2023 17:36:21] INFO - Input Notebook:  spot-analysis.ipynb\n",
      "[18/Aug/2023 17:36:21] INFO - Output Notebook: ../s04utils/papermill-test-nbs/papermill-test-img_eGFP_16dot5nm_NaP_100mM_ph7dot5_Treh7dot5_10uW_77K_circpol_005.img.ipynb\n",
      "[18/Aug/2023 17:36:21] WARNING - Black is not installed, parameters wont be formatted\n"
     ]
    },
    {
     "data": {
      "application/vnd.jupyter.widget-view+json": {
       "model_id": "217c530fdffd4a9496c112cd845daaaf",
       "version_major": 2,
       "version_minor": 0
      },
      "text/plain": [
       "Executing:   0%|          | 0/19 [00:00<?, ?cell/s]"
      ]
     },
     "metadata": {},
     "output_type": "display_data"
    },
    {
     "name": "stdout",
     "output_type": "stream",
     "text": [
      "[18/Aug/2023 17:36:22] INFO - Executing notebook with kernel: python3\n",
      "[18/Aug/2023 17:36:27] INFO - Running papermill for img_eGFP_16dot5nm_NaP_100mM_ph7dot5_Treh7dot5_10uW_77K_circpol_011.img\n",
      "[18/Aug/2023 17:36:27] INFO - Input Notebook:  spot-analysis.ipynb\n",
      "[18/Aug/2023 17:36:27] INFO - Output Notebook: ../s04utils/papermill-test-nbs/papermill-test-img_eGFP_16dot5nm_NaP_100mM_ph7dot5_Treh7dot5_10uW_77K_circpol_011.img.ipynb\n",
      "[18/Aug/2023 17:36:27] WARNING - Black is not installed, parameters wont be formatted\n"
     ]
    },
    {
     "data": {
      "application/vnd.jupyter.widget-view+json": {
       "model_id": "951eadb7e7db4b1785055a7f16ecd772",
       "version_major": 2,
       "version_minor": 0
      },
      "text/plain": [
       "Executing:   0%|          | 0/19 [00:00<?, ?cell/s]"
      ]
     },
     "metadata": {},
     "output_type": "display_data"
    },
    {
     "name": "stdout",
     "output_type": "stream",
     "text": [
      "[18/Aug/2023 17:36:28] INFO - Executing notebook with kernel: python3\n",
      "[18/Aug/2023 17:36:33] INFO - Running papermill for img_eGFP_16dot5nm_NaP_100mM_ph7dot5_Treh7dot5_10uW_77K_circpol_038.img\n",
      "[18/Aug/2023 17:36:33] INFO - Input Notebook:  spot-analysis.ipynb\n",
      "[18/Aug/2023 17:36:33] INFO - Output Notebook: ../s04utils/papermill-test-nbs/papermill-test-img_eGFP_16dot5nm_NaP_100mM_ph7dot5_Treh7dot5_10uW_77K_circpol_038.img.ipynb\n",
      "[18/Aug/2023 17:36:33] WARNING - Black is not installed, parameters wont be formatted\n"
     ]
    },
    {
     "data": {
      "application/vnd.jupyter.widget-view+json": {
       "model_id": "059aa08d776048e4aa19bc9ddc2ea134",
       "version_major": 2,
       "version_minor": 0
      },
      "text/plain": [
       "Executing:   0%|          | 0/19 [00:00<?, ?cell/s]"
      ]
     },
     "metadata": {},
     "output_type": "display_data"
    },
    {
     "name": "stdout",
     "output_type": "stream",
     "text": [
      "[18/Aug/2023 17:36:34] INFO - Executing notebook with kernel: python3\n",
      "[18/Aug/2023 17:36:40] INFO - Running papermill for img_eGFP_16dot5nm_NaP_100mM_ph7dot5_Treh7dot5_10uW_77K_circpol_010.img\n",
      "[18/Aug/2023 17:36:40] INFO - Input Notebook:  spot-analysis.ipynb\n",
      "[18/Aug/2023 17:36:40] INFO - Output Notebook: ../s04utils/papermill-test-nbs/papermill-test-img_eGFP_16dot5nm_NaP_100mM_ph7dot5_Treh7dot5_10uW_77K_circpol_010.img.ipynb\n",
      "[18/Aug/2023 17:36:40] WARNING - Black is not installed, parameters wont be formatted\n"
     ]
    },
    {
     "data": {
      "application/vnd.jupyter.widget-view+json": {
       "model_id": "5ce85b21a1c046b8b85ced1e001bcc06",
       "version_major": 2,
       "version_minor": 0
      },
      "text/plain": [
       "Executing:   0%|          | 0/19 [00:00<?, ?cell/s]"
      ]
     },
     "metadata": {},
     "output_type": "display_data"
    },
    {
     "name": "stdout",
     "output_type": "stream",
     "text": [
      "[18/Aug/2023 17:36:41] INFO - Executing notebook with kernel: python3\n",
      "[18/Aug/2023 17:36:46] INFO - Running papermill for img_eGFP_16dot5nm_NaP_100mM_ph7dot5_Treh7dot5_10uW_77K_circpol_004.img\n",
      "[18/Aug/2023 17:36:46] INFO - Input Notebook:  spot-analysis.ipynb\n",
      "[18/Aug/2023 17:36:46] INFO - Output Notebook: ../s04utils/papermill-test-nbs/papermill-test-img_eGFP_16dot5nm_NaP_100mM_ph7dot5_Treh7dot5_10uW_77K_circpol_004.img.ipynb\n",
      "[18/Aug/2023 17:36:46] WARNING - Black is not installed, parameters wont be formatted\n"
     ]
    },
    {
     "data": {
      "application/vnd.jupyter.widget-view+json": {
       "model_id": "3f3132ceaab04e399b605ee3cb5fe11a",
       "version_major": 2,
       "version_minor": 0
      },
      "text/plain": [
       "Executing:   0%|          | 0/19 [00:00<?, ?cell/s]"
      ]
     },
     "metadata": {},
     "output_type": "display_data"
    },
    {
     "name": "stdout",
     "output_type": "stream",
     "text": [
      "[18/Aug/2023 17:36:47] INFO - Executing notebook with kernel: python3\n",
      "[18/Aug/2023 17:36:52] INFO - Running papermill for img_eGFP_16dot5nm_NaP_100mM_ph7dot5_Treh7dot5_10uW_77K_circpol_028.img\n",
      "[18/Aug/2023 17:36:52] INFO - Input Notebook:  spot-analysis.ipynb\n",
      "[18/Aug/2023 17:36:52] INFO - Output Notebook: ../s04utils/papermill-test-nbs/papermill-test-img_eGFP_16dot5nm_NaP_100mM_ph7dot5_Treh7dot5_10uW_77K_circpol_028.img.ipynb\n",
      "[18/Aug/2023 17:36:52] WARNING - Black is not installed, parameters wont be formatted\n"
     ]
    },
    {
     "data": {
      "application/vnd.jupyter.widget-view+json": {
       "model_id": "94e22e4bddf840e882d541dc8bc2e3f8",
       "version_major": 2,
       "version_minor": 0
      },
      "text/plain": [
       "Executing:   0%|          | 0/19 [00:00<?, ?cell/s]"
      ]
     },
     "metadata": {},
     "output_type": "display_data"
    },
    {
     "name": "stdout",
     "output_type": "stream",
     "text": [
      "[18/Aug/2023 17:36:53] INFO - Executing notebook with kernel: python3\n",
      "[18/Aug/2023 17:36:58] INFO - Running papermill for img_eGFP_16dot5nm_NaP_100mM_ph7dot5_Treh7dot5_10uW_77K_circpol_014.img\n",
      "[18/Aug/2023 17:36:58] INFO - Input Notebook:  spot-analysis.ipynb\n",
      "[18/Aug/2023 17:36:58] INFO - Output Notebook: ../s04utils/papermill-test-nbs/papermill-test-img_eGFP_16dot5nm_NaP_100mM_ph7dot5_Treh7dot5_10uW_77K_circpol_014.img.ipynb\n",
      "[18/Aug/2023 17:36:58] WARNING - Black is not installed, parameters wont be formatted\n"
     ]
    },
    {
     "data": {
      "application/vnd.jupyter.widget-view+json": {
       "model_id": "7be34cfaade648758984b2f5c10c6d24",
       "version_major": 2,
       "version_minor": 0
      },
      "text/plain": [
       "Executing:   0%|          | 0/19 [00:00<?, ?cell/s]"
      ]
     },
     "metadata": {},
     "output_type": "display_data"
    },
    {
     "name": "stdout",
     "output_type": "stream",
     "text": [
      "[18/Aug/2023 17:36:59] INFO - Executing notebook with kernel: python3\n",
      "[18/Aug/2023 17:37:04] INFO - Running papermill for img_eGFP_16dot5nm_NaP_100mM_ph7dot5_Treh7dot5_10uW_77K_circpol_015.img\n",
      "[18/Aug/2023 17:37:04] INFO - Input Notebook:  spot-analysis.ipynb\n",
      "[18/Aug/2023 17:37:04] INFO - Output Notebook: ../s04utils/papermill-test-nbs/papermill-test-img_eGFP_16dot5nm_NaP_100mM_ph7dot5_Treh7dot5_10uW_77K_circpol_015.img.ipynb\n",
      "[18/Aug/2023 17:37:04] WARNING - Black is not installed, parameters wont be formatted\n"
     ]
    },
    {
     "data": {
      "application/vnd.jupyter.widget-view+json": {
       "model_id": "16c8acaedd294857a25687bfd5b12822",
       "version_major": 2,
       "version_minor": 0
      },
      "text/plain": [
       "Executing:   0%|          | 0/19 [00:00<?, ?cell/s]"
      ]
     },
     "metadata": {},
     "output_type": "display_data"
    },
    {
     "name": "stdout",
     "output_type": "stream",
     "text": [
      "[18/Aug/2023 17:37:05] INFO - Executing notebook with kernel: python3\n",
      "[18/Aug/2023 17:37:10] INFO - Running papermill for img_eGFP_16dot5nm_NaP_100mM_ph7dot5_Treh7dot5_10uW_77K_circpol_001.img\n",
      "[18/Aug/2023 17:37:10] INFO - Input Notebook:  spot-analysis.ipynb\n",
      "[18/Aug/2023 17:37:10] INFO - Output Notebook: ../s04utils/papermill-test-nbs/papermill-test-img_eGFP_16dot5nm_NaP_100mM_ph7dot5_Treh7dot5_10uW_77K_circpol_001.img.ipynb\n",
      "[18/Aug/2023 17:37:10] WARNING - Black is not installed, parameters wont be formatted\n"
     ]
    },
    {
     "data": {
      "application/vnd.jupyter.widget-view+json": {
       "model_id": "7d046b1b1d7542d0af8790076a262455",
       "version_major": 2,
       "version_minor": 0
      },
      "text/plain": [
       "Executing:   0%|          | 0/19 [00:00<?, ?cell/s]"
      ]
     },
     "metadata": {},
     "output_type": "display_data"
    },
    {
     "name": "stdout",
     "output_type": "stream",
     "text": [
      "[18/Aug/2023 17:37:11] INFO - Executing notebook with kernel: python3\n",
      "[18/Aug/2023 17:37:16] INFO - Running papermill for img_eGFP_16dot5nm_NaP_100mM_ph7dot5_Treh7dot5_10uW_77K_circpol_029.img\n",
      "[18/Aug/2023 17:37:16] INFO - Input Notebook:  spot-analysis.ipynb\n",
      "[18/Aug/2023 17:37:16] INFO - Output Notebook: ../s04utils/papermill-test-nbs/papermill-test-img_eGFP_16dot5nm_NaP_100mM_ph7dot5_Treh7dot5_10uW_77K_circpol_029.img.ipynb\n",
      "[18/Aug/2023 17:37:16] WARNING - Black is not installed, parameters wont be formatted\n"
     ]
    },
    {
     "data": {
      "application/vnd.jupyter.widget-view+json": {
       "model_id": "5c1f03833a6c4036bfbf8fd3c3af2012",
       "version_major": 2,
       "version_minor": 0
      },
      "text/plain": [
       "Executing:   0%|          | 0/19 [00:00<?, ?cell/s]"
      ]
     },
     "metadata": {},
     "output_type": "display_data"
    },
    {
     "name": "stdout",
     "output_type": "stream",
     "text": [
      "[18/Aug/2023 17:37:17] INFO - Executing notebook with kernel: python3\n",
      "[18/Aug/2023 17:37:22] INFO - Running papermill for img_eGFP_16dot5nm_NaP_100mM_ph7dot5_Treh7dot5_10uW_77K_circpol_017.img\n",
      "[18/Aug/2023 17:37:22] INFO - Input Notebook:  spot-analysis.ipynb\n",
      "[18/Aug/2023 17:37:22] INFO - Output Notebook: ../s04utils/papermill-test-nbs/papermill-test-img_eGFP_16dot5nm_NaP_100mM_ph7dot5_Treh7dot5_10uW_77K_circpol_017.img.ipynb\n",
      "[18/Aug/2023 17:37:22] WARNING - Black is not installed, parameters wont be formatted\n"
     ]
    },
    {
     "data": {
      "application/vnd.jupyter.widget-view+json": {
       "model_id": "5b03fa330de94ab896c06db379990499",
       "version_major": 2,
       "version_minor": 0
      },
      "text/plain": [
       "Executing:   0%|          | 0/19 [00:00<?, ?cell/s]"
      ]
     },
     "metadata": {},
     "output_type": "display_data"
    },
    {
     "name": "stdout",
     "output_type": "stream",
     "text": [
      "[18/Aug/2023 17:37:23] INFO - Executing notebook with kernel: python3\n",
      "[18/Aug/2023 17:37:28] INFO - Running papermill for img_eGFP_16dot5nm_NaP_100mM_ph7dot5_Treh7dot5_10uW_77K_circpol_003.img\n",
      "[18/Aug/2023 17:37:28] INFO - Input Notebook:  spot-analysis.ipynb\n",
      "[18/Aug/2023 17:37:28] INFO - Output Notebook: ../s04utils/papermill-test-nbs/papermill-test-img_eGFP_16dot5nm_NaP_100mM_ph7dot5_Treh7dot5_10uW_77K_circpol_003.img.ipynb\n",
      "[18/Aug/2023 17:37:28] WARNING - Black is not installed, parameters wont be formatted\n"
     ]
    },
    {
     "data": {
      "application/vnd.jupyter.widget-view+json": {
       "model_id": "40796d3008ea4da78b0e2c9e5c46c636",
       "version_major": 2,
       "version_minor": 0
      },
      "text/plain": [
       "Executing:   0%|          | 0/19 [00:00<?, ?cell/s]"
      ]
     },
     "metadata": {},
     "output_type": "display_data"
    },
    {
     "name": "stdout",
     "output_type": "stream",
     "text": [
      "[18/Aug/2023 17:37:29] INFO - Executing notebook with kernel: python3\n",
      "[18/Aug/2023 17:37:35] INFO - Running papermill for img_eGFP_16dot5nm_NaP_100mM_ph7dot5_Treh7dot5_10uW_77K_circpol_002.img\n",
      "[18/Aug/2023 17:37:35] INFO - Input Notebook:  spot-analysis.ipynb\n",
      "[18/Aug/2023 17:37:35] INFO - Output Notebook: ../s04utils/papermill-test-nbs/papermill-test-img_eGFP_16dot5nm_NaP_100mM_ph7dot5_Treh7dot5_10uW_77K_circpol_002.img.ipynb\n",
      "[18/Aug/2023 17:37:35] WARNING - Black is not installed, parameters wont be formatted\n"
     ]
    },
    {
     "data": {
      "application/vnd.jupyter.widget-view+json": {
       "model_id": "7b7eb5314a2742d68bebaec37c1bb1e3",
       "version_major": 2,
       "version_minor": 0
      },
      "text/plain": [
       "Executing:   0%|          | 0/19 [00:00<?, ?cell/s]"
      ]
     },
     "metadata": {},
     "output_type": "display_data"
    },
    {
     "name": "stdout",
     "output_type": "stream",
     "text": [
      "[18/Aug/2023 17:37:36] INFO - Executing notebook with kernel: python3\n",
      "[18/Aug/2023 17:37:41] INFO - Running papermill for img_eGFP_16dot5nm_NaP_100mM_ph7dot5_Treh7dot5_10uW_77K_circpol_016.img\n",
      "[18/Aug/2023 17:37:41] INFO - Input Notebook:  spot-analysis.ipynb\n",
      "[18/Aug/2023 17:37:41] INFO - Output Notebook: ../s04utils/papermill-test-nbs/papermill-test-img_eGFP_16dot5nm_NaP_100mM_ph7dot5_Treh7dot5_10uW_77K_circpol_016.img.ipynb\n",
      "[18/Aug/2023 17:37:41] WARNING - Black is not installed, parameters wont be formatted\n"
     ]
    },
    {
     "data": {
      "application/vnd.jupyter.widget-view+json": {
       "model_id": "974984fbc7f44d7dae261fc0c0e530da",
       "version_major": 2,
       "version_minor": 0
      },
      "text/plain": [
       "Executing:   0%|          | 0/19 [00:00<?, ?cell/s]"
      ]
     },
     "metadata": {},
     "output_type": "display_data"
    },
    {
     "name": "stdout",
     "output_type": "stream",
     "text": [
      "[18/Aug/2023 17:37:42] INFO - Executing notebook with kernel: python3\n",
      "[18/Aug/2023 17:37:47] INFO - Running papermill for img_eGFP_16dot5nm_NaP_100mM_ph7dot5_Treh7dot5_10uW_77K_circpol_033.img\n",
      "[18/Aug/2023 17:37:47] INFO - Input Notebook:  spot-analysis.ipynb\n",
      "[18/Aug/2023 17:37:47] INFO - Output Notebook: ../s04utils/papermill-test-nbs/papermill-test-img_eGFP_16dot5nm_NaP_100mM_ph7dot5_Treh7dot5_10uW_77K_circpol_033.img.ipynb\n",
      "[18/Aug/2023 17:37:47] WARNING - Black is not installed, parameters wont be formatted\n"
     ]
    },
    {
     "data": {
      "application/vnd.jupyter.widget-view+json": {
       "model_id": "706f0e9f731642e9a6e7ab73cfe2eb1d",
       "version_major": 2,
       "version_minor": 0
      },
      "text/plain": [
       "Executing:   0%|          | 0/19 [00:00<?, ?cell/s]"
      ]
     },
     "metadata": {},
     "output_type": "display_data"
    },
    {
     "name": "stdout",
     "output_type": "stream",
     "text": [
      "[18/Aug/2023 17:37:48] INFO - Executing notebook with kernel: python3\n",
      "[18/Aug/2023 17:37:53] INFO - Running papermill for img_eGFP_16dot5nm_NaP_100mM_ph7dot5_Treh7dot5_10uW_77K_circpol_027.img\n",
      "[18/Aug/2023 17:37:53] INFO - Input Notebook:  spot-analysis.ipynb\n",
      "[18/Aug/2023 17:37:53] INFO - Output Notebook: ../s04utils/papermill-test-nbs/papermill-test-img_eGFP_16dot5nm_NaP_100mM_ph7dot5_Treh7dot5_10uW_77K_circpol_027.img.ipynb\n",
      "[18/Aug/2023 17:37:53] WARNING - Black is not installed, parameters wont be formatted\n"
     ]
    },
    {
     "data": {
      "application/vnd.jupyter.widget-view+json": {
       "model_id": "342590590b364ebb9148e83a8fe51ca3",
       "version_major": 2,
       "version_minor": 0
      },
      "text/plain": [
       "Executing:   0%|          | 0/19 [00:00<?, ?cell/s]"
      ]
     },
     "metadata": {},
     "output_type": "display_data"
    },
    {
     "name": "stdout",
     "output_type": "stream",
     "text": [
      "[18/Aug/2023 17:37:54] INFO - Executing notebook with kernel: python3\n",
      "[18/Aug/2023 17:37:59] INFO - Running papermill for img_eGFP_16dot5nm_NaP_100mM_ph7dot5_Treh7dot5_10uW_77K_circpol_026.img\n",
      "[18/Aug/2023 17:37:59] INFO - Input Notebook:  spot-analysis.ipynb\n",
      "[18/Aug/2023 17:37:59] INFO - Output Notebook: ../s04utils/papermill-test-nbs/papermill-test-img_eGFP_16dot5nm_NaP_100mM_ph7dot5_Treh7dot5_10uW_77K_circpol_026.img.ipynb\n",
      "[18/Aug/2023 17:37:59] WARNING - Black is not installed, parameters wont be formatted\n"
     ]
    },
    {
     "data": {
      "application/vnd.jupyter.widget-view+json": {
       "model_id": "39e9a398900d4ea2816713e8ab728a65",
       "version_major": 2,
       "version_minor": 0
      },
      "text/plain": [
       "Executing:   0%|          | 0/19 [00:00<?, ?cell/s]"
      ]
     },
     "metadata": {},
     "output_type": "display_data"
    },
    {
     "name": "stdout",
     "output_type": "stream",
     "text": [
      "[18/Aug/2023 17:38:00] INFO - Executing notebook with kernel: python3\n",
      "[18/Aug/2023 17:38:05] INFO - Running papermill for img_eGFP_16dot5nm_NaP_100mM_ph7dot5_Treh7dot5_10uW_77K_circpol_032.img\n",
      "[18/Aug/2023 17:38:05] INFO - Input Notebook:  spot-analysis.ipynb\n",
      "[18/Aug/2023 17:38:05] INFO - Output Notebook: ../s04utils/papermill-test-nbs/papermill-test-img_eGFP_16dot5nm_NaP_100mM_ph7dot5_Treh7dot5_10uW_77K_circpol_032.img.ipynb\n",
      "[18/Aug/2023 17:38:05] WARNING - Black is not installed, parameters wont be formatted\n"
     ]
    },
    {
     "data": {
      "application/vnd.jupyter.widget-view+json": {
       "model_id": "fd5737fa1ff24368b371c68c2d680821",
       "version_major": 2,
       "version_minor": 0
      },
      "text/plain": [
       "Executing:   0%|          | 0/19 [00:00<?, ?cell/s]"
      ]
     },
     "metadata": {},
     "output_type": "display_data"
    },
    {
     "name": "stdout",
     "output_type": "stream",
     "text": [
      "[18/Aug/2023 17:38:06] INFO - Executing notebook with kernel: python3\n",
      "[18/Aug/2023 17:38:11] INFO - Running papermill for img_eGFP_16dot5nm_NaP_100mM_ph7dot5_Treh7dot5_10uW_77K_circpol_024.img\n",
      "[18/Aug/2023 17:38:11] INFO - Input Notebook:  spot-analysis.ipynb\n",
      "[18/Aug/2023 17:38:11] INFO - Output Notebook: ../s04utils/papermill-test-nbs/papermill-test-img_eGFP_16dot5nm_NaP_100mM_ph7dot5_Treh7dot5_10uW_77K_circpol_024.img.ipynb\n",
      "[18/Aug/2023 17:38:11] WARNING - Black is not installed, parameters wont be formatted\n"
     ]
    },
    {
     "data": {
      "application/vnd.jupyter.widget-view+json": {
       "model_id": "cb2b617f05ed44958557c89e1c97acc0",
       "version_major": 2,
       "version_minor": 0
      },
      "text/plain": [
       "Executing:   0%|          | 0/19 [00:00<?, ?cell/s]"
      ]
     },
     "metadata": {},
     "output_type": "display_data"
    },
    {
     "name": "stdout",
     "output_type": "stream",
     "text": [
      "[18/Aug/2023 17:38:12] INFO - Executing notebook with kernel: python3\n",
      "[18/Aug/2023 17:38:17] INFO - Running papermill for img_eGFP_16dot5nm_NaP_100mM_ph7dot5_Treh7dot5_10uW_77K_circpol_030.img\n",
      "[18/Aug/2023 17:38:17] INFO - Input Notebook:  spot-analysis.ipynb\n",
      "[18/Aug/2023 17:38:17] INFO - Output Notebook: ../s04utils/papermill-test-nbs/papermill-test-img_eGFP_16dot5nm_NaP_100mM_ph7dot5_Treh7dot5_10uW_77K_circpol_030.img.ipynb\n",
      "[18/Aug/2023 17:38:17] WARNING - Black is not installed, parameters wont be formatted\n"
     ]
    },
    {
     "data": {
      "application/vnd.jupyter.widget-view+json": {
       "model_id": "e98818cd98204afa8b02c19a469e3abe",
       "version_major": 2,
       "version_minor": 0
      },
      "text/plain": [
       "Executing:   0%|          | 0/19 [00:00<?, ?cell/s]"
      ]
     },
     "metadata": {},
     "output_type": "display_data"
    },
    {
     "name": "stdout",
     "output_type": "stream",
     "text": [
      "[18/Aug/2023 17:38:18] INFO - Executing notebook with kernel: python3\n"
     ]
    },
    {
     "ename": "PapermillExecutionError",
     "evalue": "\n---------------------------------------------------------------------------\nException encountered at \"In [15]\":\n---------------------------------------------------------------------------\nValueError                                Traceback (most recent call last)\nCell In[15], line 11\n      8 blob_dataframe = pd.DataFrame(blob_data)\n     10 # Set the column names\n---> 11 blob_dataframe.columns = ['ID', 'Avg. intensity', 'Max. intensity']\n     13 # Add a column that contains the file name for each blob (i.e. the file name of the image that was analyzed)\n     14 blob_dataframe['File'] = os.path.basename(SOURCE_IMAGE_PATH)\n\nFile /opt/homebrew/lib/python3.11/site-packages/pandas/core/generic.py:6002, in NDFrame.__setattr__(self, name, value)\n   6000 try:\n   6001     object.__getattribute__(self, name)\n-> 6002     return object.__setattr__(self, name, value)\n   6003 except AttributeError:\n   6004     pass\n\nFile /opt/homebrew/lib/python3.11/site-packages/pandas/_libs/properties.pyx:69, in pandas._libs.properties.AxisProperty.__set__()\n\nFile /opt/homebrew/lib/python3.11/site-packages/pandas/core/generic.py:730, in NDFrame._set_axis(self, axis, labels)\n    725 \"\"\"\n    726 This is called from the cython code when we set the `index` attribute\n    727 directly, e.g. `series.index = [1, 2, 3]`.\n    728 \"\"\"\n    729 labels = ensure_index(labels)\n--> 730 self._mgr.set_axis(axis, labels)\n    731 self._clear_item_cache()\n\nFile /opt/homebrew/lib/python3.11/site-packages/pandas/core/internals/managers.py:225, in BaseBlockManager.set_axis(self, axis, new_labels)\n    223 def set_axis(self, axis: AxisInt, new_labels: Index) -> None:\n    224     # Caller is responsible for ensuring we have an Index object.\n--> 225     self._validate_set_axis(axis, new_labels)\n    226     self.axes[axis] = new_labels\n\nFile /opt/homebrew/lib/python3.11/site-packages/pandas/core/internals/base.py:70, in DataManager._validate_set_axis(self, axis, new_labels)\n     67     pass\n     69 elif new_len != old_len:\n---> 70     raise ValueError(\n     71         f\"Length mismatch: Expected axis has {old_len} elements, new \"\n     72         f\"values have {new_len} elements\"\n     73     )\n\nValueError: Length mismatch: Expected axis has 0 elements, new values have 3 elements\n",
     "output_type": "error",
     "traceback": [
      "\u001b[0;31m---------------------------------------------------------------------------\u001b[0m",
      "\u001b[0;31mPapermillExecutionError\u001b[0m                   Traceback (most recent call last)",
      "\u001b[1;32m/Users/kappel/Documents/Programming/python-projects/s04utils/papermill-test.ipynb Zelle 8\u001b[0m line \u001b[0;36m1\n\u001b[1;32m      <a href='vscode-notebook-cell:/Users/kappel/Documents/Programming/python-projects/s04utils/papermill-test.ipynb#W4sZmlsZQ%3D%3D?line=8'>9</a>\u001b[0m \u001b[39mfor\u001b[39;00m file \u001b[39min\u001b[39;00m files:\n\u001b[1;32m     <a href='vscode-notebook-cell:/Users/kappel/Documents/Programming/python-projects/s04utils/papermill-test.ipynb#W4sZmlsZQ%3D%3D?line=9'>10</a>\u001b[0m     logger\u001b[39m.\u001b[39minfo(\u001b[39m\"\u001b[39m\u001b[39mRunning papermill for \u001b[39m\u001b[39m{}\u001b[39;00m\u001b[39m\"\u001b[39m\u001b[39m.\u001b[39mformat(file))\n\u001b[0;32m---> <a href='vscode-notebook-cell:/Users/kappel/Documents/Programming/python-projects/s04utils/papermill-test.ipynb#W4sZmlsZQ%3D%3D?line=10'>11</a>\u001b[0m     pm\u001b[39m.\u001b[39;49mexecute_notebook(\n\u001b[1;32m     <a href='vscode-notebook-cell:/Users/kappel/Documents/Programming/python-projects/s04utils/papermill-test.ipynb#W4sZmlsZQ%3D%3D?line=11'>12</a>\u001b[0m         input_path \u001b[39m=\u001b[39;49m SOURCE_NOTEBOOK_PATH,\n\u001b[1;32m     <a href='vscode-notebook-cell:/Users/kappel/Documents/Programming/python-projects/s04utils/papermill-test.ipynb#W4sZmlsZQ%3D%3D?line=12'>13</a>\u001b[0m         output_path \u001b[39m=\u001b[39;49m \u001b[39m\"\u001b[39;49m\u001b[39m../s04utils/papermill-test-nbs/papermill-test-\u001b[39;49m\u001b[39m{}\u001b[39;49;00m\u001b[39m.ipynb\u001b[39;49m\u001b[39m\"\u001b[39;49m\u001b[39m.\u001b[39;49mformat(file),\n\u001b[1;32m     <a href='vscode-notebook-cell:/Users/kappel/Documents/Programming/python-projects/s04utils/papermill-test.ipynb#W4sZmlsZQ%3D%3D?line=13'>14</a>\u001b[0m         parameters\u001b[39m=\u001b[39;49m\u001b[39mdict\u001b[39;49m(\n\u001b[1;32m     <a href='vscode-notebook-cell:/Users/kappel/Documents/Programming/python-projects/s04utils/papermill-test.ipynb#W4sZmlsZQ%3D%3D?line=14'>15</a>\u001b[0m             \u001b[39m# join SOURCE_PATH and file name\u001b[39;49;00m\n\u001b[1;32m     <a href='vscode-notebook-cell:/Users/kappel/Documents/Programming/python-projects/s04utils/papermill-test.ipynb#W4sZmlsZQ%3D%3D?line=15'>16</a>\u001b[0m             SOURCE_IMAGE_PATH \u001b[39m=\u001b[39;49m os\u001b[39m.\u001b[39;49mpath\u001b[39m.\u001b[39;49mjoin(SOURCE_PATH, file)\n\u001b[1;32m     <a href='vscode-notebook-cell:/Users/kappel/Documents/Programming/python-projects/s04utils/papermill-test.ipynb#W4sZmlsZQ%3D%3D?line=16'>17</a>\u001b[0m         )\n\u001b[1;32m     <a href='vscode-notebook-cell:/Users/kappel/Documents/Programming/python-projects/s04utils/papermill-test.ipynb#W4sZmlsZQ%3D%3D?line=17'>18</a>\u001b[0m     )\n",
      "File \u001b[0;32m/opt/homebrew/lib/python3.11/site-packages/papermill/execute.py:128\u001b[0m, in \u001b[0;36mexecute_notebook\u001b[0;34m(input_path, output_path, parameters, engine_name, request_save_on_cell_execute, prepare_only, kernel_name, language, progress_bar, log_output, stdout_file, stderr_file, start_timeout, report_mode, cwd, **engine_kwargs)\u001b[0m\n\u001b[1;32m    113\u001b[0m         nb \u001b[39m=\u001b[39m papermill_engines\u001b[39m.\u001b[39mexecute_notebook_with_engine(\n\u001b[1;32m    114\u001b[0m             engine_name,\n\u001b[1;32m    115\u001b[0m             nb,\n\u001b[0;32m   (...)\u001b[0m\n\u001b[1;32m    124\u001b[0m             \u001b[39m*\u001b[39m\u001b[39m*\u001b[39mengine_kwargs\n\u001b[1;32m    125\u001b[0m         )\n\u001b[1;32m    127\u001b[0m     \u001b[39m# Check for errors first (it saves on error before raising)\u001b[39;00m\n\u001b[0;32m--> 128\u001b[0m     raise_for_execution_errors(nb, output_path)\n\u001b[1;32m    130\u001b[0m \u001b[39m# Write final output in case the engine didn't write it on cell completion.\u001b[39;00m\n\u001b[1;32m    131\u001b[0m write_ipynb(nb, output_path)\n",
      "File \u001b[0;32m/opt/homebrew/lib/python3.11/site-packages/papermill/execute.py:232\u001b[0m, in \u001b[0;36mraise_for_execution_errors\u001b[0;34m(nb, output_path)\u001b[0m\n\u001b[1;32m    229\u001b[0m nb\u001b[39m.\u001b[39mcells\u001b[39m.\u001b[39minsert(\u001b[39m0\u001b[39m, error_msg_cell)\n\u001b[1;32m    231\u001b[0m write_ipynb(nb, output_path)\n\u001b[0;32m--> 232\u001b[0m \u001b[39mraise\u001b[39;00m error\n",
      "\u001b[0;31mPapermillExecutionError\u001b[0m: \n---------------------------------------------------------------------------\nException encountered at \"In [15]\":\n---------------------------------------------------------------------------\nValueError                                Traceback (most recent call last)\nCell In[15], line 11\n      8 blob_dataframe = pd.DataFrame(blob_data)\n     10 # Set the column names\n---> 11 blob_dataframe.columns = ['ID', 'Avg. intensity', 'Max. intensity']\n     13 # Add a column that contains the file name for each blob (i.e. the file name of the image that was analyzed)\n     14 blob_dataframe['File'] = os.path.basename(SOURCE_IMAGE_PATH)\n\nFile /opt/homebrew/lib/python3.11/site-packages/pandas/core/generic.py:6002, in NDFrame.__setattr__(self, name, value)\n   6000 try:\n   6001     object.__getattribute__(self, name)\n-> 6002     return object.__setattr__(self, name, value)\n   6003 except AttributeError:\n   6004     pass\n\nFile /opt/homebrew/lib/python3.11/site-packages/pandas/_libs/properties.pyx:69, in pandas._libs.properties.AxisProperty.__set__()\n\nFile /opt/homebrew/lib/python3.11/site-packages/pandas/core/generic.py:730, in NDFrame._set_axis(self, axis, labels)\n    725 \"\"\"\n    726 This is called from the cython code when we set the `index` attribute\n    727 directly, e.g. `series.index = [1, 2, 3]`.\n    728 \"\"\"\n    729 labels = ensure_index(labels)\n--> 730 self._mgr.set_axis(axis, labels)\n    731 self._clear_item_cache()\n\nFile /opt/homebrew/lib/python3.11/site-packages/pandas/core/internals/managers.py:225, in BaseBlockManager.set_axis(self, axis, new_labels)\n    223 def set_axis(self, axis: AxisInt, new_labels: Index) -> None:\n    224     # Caller is responsible for ensuring we have an Index object.\n--> 225     self._validate_set_axis(axis, new_labels)\n    226     self.axes[axis] = new_labels\n\nFile /opt/homebrew/lib/python3.11/site-packages/pandas/core/internals/base.py:70, in DataManager._validate_set_axis(self, axis, new_labels)\n     67     pass\n     69 elif new_len != old_len:\n---> 70     raise ValueError(\n     71         f\"Length mismatch: Expected axis has {old_len} elements, new \"\n     72         f\"values have {new_len} elements\"\n     73     )\n\nValueError: Length mismatch: Expected axis has 0 elements, new values have 3 elements\n"
     ]
    }
   ],
   "source": [
    "# Logging\n",
    "logger.info(\"Starting papermill\")\n",
    "\n",
    "# Get list of files with extension .img from SOURCE_PATH\n",
    "files = [file for file in os.listdir(SOURCE_PATH) if file.endswith(\".img\")]\n",
    "print(files)\n",
    "\n",
    "# Iterate over files and run papermill\n",
    "for file in files:\n",
    "    logger.info(\"Running papermill for {}\".format(file))\n",
    "    pm.execute_notebook(\n",
    "        input_path = SOURCE_NOTEBOOK_PATH,\n",
    "        output_path = \"../s04utils/papermill-test-nbs/papermill-test-{}.ipynb\".format(file),\n",
    "        parameters=dict(\n",
    "            # join SOURCE_PATH and file name\n",
    "            SOURCE_IMAGE_PATH = os.path.join(SOURCE_PATH, file)\n",
    "        )\n",
    "    )"
   ]
  },
  {
   "cell_type": "code",
   "execution_count": 196,
   "metadata": {},
   "outputs": [],
   "source": [
    "# Read in the notebook\n",
    "nb = sb.read_notebook('spot-analysis.ipynb')"
   ]
  },
  {
   "cell_type": "code",
   "execution_count": 197,
   "metadata": {},
   "outputs": [
    {
     "data": {
      "text/html": [
       "<div>\n",
       "<style scoped>\n",
       "    .dataframe tbody tr th:only-of-type {\n",
       "        vertical-align: middle;\n",
       "    }\n",
       "\n",
       "    .dataframe tbody tr th {\n",
       "        vertical-align: top;\n",
       "    }\n",
       "\n",
       "    .dataframe thead th {\n",
       "        text-align: right;\n",
       "    }\n",
       "</style>\n",
       "<table border=\"1\" class=\"dataframe\">\n",
       "  <thead>\n",
       "    <tr style=\"text-align: right;\">\n",
       "      <th></th>\n",
       "      <th>File</th>\n",
       "      <th>ID</th>\n",
       "      <th>Avg. intensity</th>\n",
       "      <th>Max. intensity</th>\n",
       "    </tr>\n",
       "  </thead>\n",
       "  <tbody>\n",
       "    <tr>\n",
       "      <th>0</th>\n",
       "      <td>img_eGFP_33nm_NaP_100mM_ph7dot5_Treh7dot5_20uW...</td>\n",
       "      <td>blob_1</td>\n",
       "      <td>35</td>\n",
       "      <td>71</td>\n",
       "    </tr>\n",
       "    <tr>\n",
       "      <th>1</th>\n",
       "      <td>img_eGFP_33nm_NaP_100mM_ph7dot5_Treh7dot5_20uW...</td>\n",
       "      <td>blob_2</td>\n",
       "      <td>30</td>\n",
       "      <td>86</td>\n",
       "    </tr>\n",
       "    <tr>\n",
       "      <th>2</th>\n",
       "      <td>img_eGFP_33nm_NaP_100mM_ph7dot5_Treh7dot5_20uW...</td>\n",
       "      <td>blob_3</td>\n",
       "      <td>34</td>\n",
       "      <td>75</td>\n",
       "    </tr>\n",
       "    <tr>\n",
       "      <th>3</th>\n",
       "      <td>img_eGFP_33nm_NaP_100mM_ph7dot5_Treh7dot5_20uW...</td>\n",
       "      <td>blob_4</td>\n",
       "      <td>36</td>\n",
       "      <td>87</td>\n",
       "    </tr>\n",
       "    <tr>\n",
       "      <th>4</th>\n",
       "      <td>img_eGFP_33nm_NaP_100mM_ph7dot5_Treh7dot5_20uW...</td>\n",
       "      <td>blob_5</td>\n",
       "      <td>29</td>\n",
       "      <td>102</td>\n",
       "    </tr>\n",
       "  </tbody>\n",
       "</table>\n",
       "</div>"
      ],
      "text/plain": [
       "                                                File      ID  Avg. intensity  \\\n",
       "0  img_eGFP_33nm_NaP_100mM_ph7dot5_Treh7dot5_20uW...  blob_1              35   \n",
       "1  img_eGFP_33nm_NaP_100mM_ph7dot5_Treh7dot5_20uW...  blob_2              30   \n",
       "2  img_eGFP_33nm_NaP_100mM_ph7dot5_Treh7dot5_20uW...  blob_3              34   \n",
       "3  img_eGFP_33nm_NaP_100mM_ph7dot5_Treh7dot5_20uW...  blob_4              36   \n",
       "4  img_eGFP_33nm_NaP_100mM_ph7dot5_Treh7dot5_20uW...  blob_5              29   \n",
       "\n",
       "   Max. intensity  \n",
       "0              71  \n",
       "1              86  \n",
       "2              75  \n",
       "3              87  \n",
       "4             102  "
      ]
     },
     "execution_count": 197,
     "metadata": {},
     "output_type": "execute_result"
    }
   ],
   "source": [
    "# Read scraps from notebook to blob_dataframe\n",
    "blob_dataframe = nb.scrap_dataframe.loc[df['name'] == 'blob_dataframe', 'data'].iloc[0]\n",
    "blob_dataframe.head()"
   ]
  },
  {
   "cell_type": "code",
   "execution_count": 199,
   "metadata": {},
   "outputs": [
    {
     "name": "stdout",
     "output_type": "stream",
     "text": [
      "24\n",
      "../s04utils/papermill-test-nbs/papermill-test-img_eGFP_16dot5nm_NaP_100mM_ph7dot5_Treh7dot5_10uW_77K_circpol_017.img.ipynb\n",
      "../s04utils/papermill-test-nbs/papermill-test-img_eGFP_16dot5nm_NaP_100mM_ph7dot5_Treh7dot5_10uW_77K_circpol_003.img.ipynb\n",
      "../s04utils/papermill-test-nbs/papermill-test-img_eGFP_16dot5nm_NaP_100mM_ph7dot5_Treh7dot5_10uW_77K_circpol_029.img.ipynb\n",
      "../s04utils/papermill-test-nbs/papermill-test-img_eGFP_16dot5nm_NaP_100mM_ph7dot5_Treh7dot5_10uW_77K_circpol_024.img.ipynb\n",
      "../s04utils/papermill-test-nbs/papermill-test-img_eGFP_16dot5nm_NaP_100mM_ph7dot5_Treh7dot5_10uW_77K_circpol_030.img.ipynb\n",
      "../s04utils/papermill-test-nbs/papermill-test-img_eGFP_16dot5nm_NaP_100mM_ph7dot5_Treh7dot5_10uW_77K_circpol_011.img.ipynb\n",
      "../s04utils/papermill-test-nbs/papermill-test-img_eGFP_16dot5nm_NaP_100mM_ph7dot5_Treh7dot5_10uW_77K_circpol_005.img.ipynb\n",
      "../s04utils/papermill-test-nbs/papermill-test-img_eGFP_16dot5nm_NaP_100mM_ph7dot5_Treh7dot5_10uW_77K_circpol_002.img.ipynb\n",
      "../s04utils/papermill-test-nbs/papermill-test-img_eGFP_16dot5nm_NaP_100mM_ph7dot5_Treh7dot5_10uW_77K_circpol_016.img.ipynb\n",
      "../s04utils/papermill-test-nbs/papermill-test-img_eGFP_16dot5nm_NaP_100mM_ph7dot5_Treh7dot5_10uW_77K_circpol_028.img.ipynb\n",
      "../s04utils/papermill-test-nbs/papermill-test-img_eGFP_16dot5nm_NaP_100mM_ph7dot5_Treh7dot5_10uW_77K_circpol_004.img.ipynb\n",
      "../s04utils/papermill-test-nbs/papermill-test-img_eGFP_16dot5nm_NaP_100mM_ph7dot5_Treh7dot5_10uW_77K_circpol_010.img.ipynb\n",
      "../s04utils/papermill-test-nbs/papermill-test-img_eGFP_16dot5nm_NaP_100mM_ph7dot5_Treh7dot5_10uW_77K_circpol_015.img.ipynb\n",
      "../s04utils/papermill-test-nbs/papermill-test-img_eGFP_16dot5nm_NaP_100mM_ph7dot5_Treh7dot5_10uW_77K_circpol_001.img.ipynb\n",
      "../s04utils/papermill-test-nbs/papermill-test-img_eGFP_16dot5nm_NaP_100mM_ph7dot5_Treh7dot5_10uW_77K_circpol_013.img.ipynb\n",
      "../s04utils/papermill-test-nbs/papermill-test-img_eGFP_16dot5nm_NaP_100mM_ph7dot5_Treh7dot5_10uW_77K_circpol_007.img.ipynb\n",
      "../s04utils/papermill-test-nbs/papermill-test-img_eGFP_16dot5nm_NaP_100mM_ph7dot5_Treh7dot5_10uW_77K_circpol_026.img.ipynb\n",
      "../s04utils/papermill-test-nbs/papermill-test-img_eGFP_16dot5nm_NaP_100mM_ph7dot5_Treh7dot5_10uW_77K_circpol_032.img.ipynb\n",
      "../s04utils/papermill-test-nbs/papermill-test-img_eGFP_16dot5nm_NaP_100mM_ph7dot5_Treh7dot5_10uW_77K_circpol_038.img.ipynb\n",
      "../s04utils/papermill-test-nbs/papermill-test-img_eGFP_16dot5nm_NaP_100mM_ph7dot5_Treh7dot5_10uW_77K_circpol_014.img.ipynb\n",
      "../s04utils/papermill-test-nbs/papermill-test-img_eGFP_16dot5nm_NaP_100mM_ph7dot5_Treh7dot5_10uW_77K_circpol_006.img.ipynb\n",
      "../s04utils/papermill-test-nbs/papermill-test-img_eGFP_16dot5nm_NaP_100mM_ph7dot5_Treh7dot5_10uW_77K_circpol_012.img.ipynb\n",
      "../s04utils/papermill-test-nbs/papermill-test-img_eGFP_16dot5nm_NaP_100mM_ph7dot5_Treh7dot5_10uW_77K_circpol_033.img.ipynb\n",
      "../s04utils/papermill-test-nbs/papermill-test-img_eGFP_16dot5nm_NaP_100mM_ph7dot5_Treh7dot5_10uW_77K_circpol_027.img.ipynb\n"
     ]
    }
   ],
   "source": [
    "# Read scraps of notebooks generated by papermill\n",
    "\n",
    "OUTPUT_PATH = '../s04utils/papermill-test-nbs/'\n",
    "\n",
    "# Get list of files with extension .ipynb from OUTPUT_PATH and join with sourcepath\n",
    "notebooks = [os.path.join(OUTPUT_PATH, file) for file in os.listdir(OUTPUT_PATH) if file.endswith(\".ipynb\")]\n",
    "print(len(notebooks))\n",
    "\n",
    "\n",
    "blob_dataframe = pd.DataFrame()\n",
    "\n",
    "for notebook in notebooks:\n",
    "    print(notebook)\n",
    "    nb = sb.read_notebook(notebook)\n",
    "    if not nb.scrap_dataframe.empty:\n",
    "        nb_dataframe = nb.scrap_dataframe.loc[nb.scrap_dataframe['name'] == 'blob_dataframe', 'data'].iloc[0]\n",
    "        blob_dataframe = pd.concat([blob_dataframe, nb_dataframe], ignore_index=True)\n",
    "        blob_dataframe = pd.concat([blob_dataframe, nb_dataframe], ignore_index=True)\n",
    "\n",
    "\n"
   ]
  },
  {
   "cell_type": "code",
   "execution_count": 200,
   "metadata": {},
   "outputs": [
    {
     "data": {
      "text/html": [
       "<div>\n",
       "<style scoped>\n",
       "    .dataframe tbody tr th:only-of-type {\n",
       "        vertical-align: middle;\n",
       "    }\n",
       "\n",
       "    .dataframe tbody tr th {\n",
       "        vertical-align: top;\n",
       "    }\n",
       "\n",
       "    .dataframe thead th {\n",
       "        text-align: right;\n",
       "    }\n",
       "</style>\n",
       "<table border=\"1\" class=\"dataframe\">\n",
       "  <thead>\n",
       "    <tr style=\"text-align: right;\">\n",
       "      <th></th>\n",
       "      <th>File</th>\n",
       "      <th>ID</th>\n",
       "      <th>Avg. intensity</th>\n",
       "      <th>Max. intensity</th>\n",
       "    </tr>\n",
       "  </thead>\n",
       "  <tbody>\n",
       "    <tr>\n",
       "      <th>0</th>\n",
       "      <td>img_eGFP_16dot5nm_NaP_100mM_ph7dot5_Treh7dot5_...</td>\n",
       "      <td>blob_1</td>\n",
       "      <td>10</td>\n",
       "      <td>25</td>\n",
       "    </tr>\n",
       "    <tr>\n",
       "      <th>1</th>\n",
       "      <td>img_eGFP_16dot5nm_NaP_100mM_ph7dot5_Treh7dot5_...</td>\n",
       "      <td>blob_2</td>\n",
       "      <td>7</td>\n",
       "      <td>12</td>\n",
       "    </tr>\n",
       "    <tr>\n",
       "      <th>2</th>\n",
       "      <td>img_eGFP_16dot5nm_NaP_100mM_ph7dot5_Treh7dot5_...</td>\n",
       "      <td>blob_3</td>\n",
       "      <td>5</td>\n",
       "      <td>21</td>\n",
       "    </tr>\n",
       "    <tr>\n",
       "      <th>3</th>\n",
       "      <td>img_eGFP_16dot5nm_NaP_100mM_ph7dot5_Treh7dot5_...</td>\n",
       "      <td>blob_4</td>\n",
       "      <td>5</td>\n",
       "      <td>27</td>\n",
       "    </tr>\n",
       "    <tr>\n",
       "      <th>4</th>\n",
       "      <td>img_eGFP_16dot5nm_NaP_100mM_ph7dot5_Treh7dot5_...</td>\n",
       "      <td>blob_5</td>\n",
       "      <td>6</td>\n",
       "      <td>11</td>\n",
       "    </tr>\n",
       "  </tbody>\n",
       "</table>\n",
       "</div>"
      ],
      "text/plain": [
       "                                                File      ID  Avg. intensity  \\\n",
       "0  img_eGFP_16dot5nm_NaP_100mM_ph7dot5_Treh7dot5_...  blob_1              10   \n",
       "1  img_eGFP_16dot5nm_NaP_100mM_ph7dot5_Treh7dot5_...  blob_2               7   \n",
       "2  img_eGFP_16dot5nm_NaP_100mM_ph7dot5_Treh7dot5_...  blob_3               5   \n",
       "3  img_eGFP_16dot5nm_NaP_100mM_ph7dot5_Treh7dot5_...  blob_4               5   \n",
       "4  img_eGFP_16dot5nm_NaP_100mM_ph7dot5_Treh7dot5_...  blob_5               6   \n",
       "\n",
       "   Max. intensity  \n",
       "0              25  \n",
       "1              12  \n",
       "2              21  \n",
       "3              27  \n",
       "4              11  "
      ]
     },
     "execution_count": 200,
     "metadata": {},
     "output_type": "execute_result"
    }
   ],
   "source": [
    "blob_dataframe.head()"
   ]
  },
  {
   "cell_type": "code",
   "execution_count": 201,
   "metadata": {},
   "outputs": [
    {
     "name": "stdout",
     "output_type": "stream",
     "text": [
      "Index(['File', 'ID', 'Avg. intensity', 'Max. intensity'], dtype='object')\n"
     ]
    }
   ],
   "source": [
    "print(blob_dataframe.columns)\n"
   ]
  },
  {
   "cell_type": "code",
   "execution_count": 202,
   "metadata": {},
   "outputs": [
    {
     "data": {
      "image/png": "[encoded data removed]",
      "text/plain": [
       "<Figure size 640x480 with 1 Axes>"
      ]
     },
     "metadata": {},
     "output_type": "display_data"
    }
   ],
   "source": [
    "blob_dataframe.hist(column='Max. intensity', bins=200, range=(0, 200))\n",
    "counts = blob_dataframe['Max. intensity'].value_counts()"
   ]
  },
  {
   "cell_type": "code",
   "execution_count": 203,
   "metadata": {},
   "outputs": [
    {
     "data": {
      "text/plain": [
       "array([[<Axes: title={'center': 'Avg. intensity'}>]], dtype=object)"
      ]
     },
     "execution_count": 203,
     "metadata": {},
     "output_type": "execute_result"
    },
    {
     "data": {
      "image/png": "[encoded data removed]",
      "text/plain": [
       "<Figure size 640x480 with 1 Axes>"
      ]
     },
     "metadata": {},
     "output_type": "display_data"
    }
   ],
   "source": [
    "blob_dataframe.hist(column='Avg. intensity', bins=200, range=(0, 200))"
   ]
  },
  {
   "cell_type": "code",
   "execution_count": 204,
   "metadata": {},
   "outputs": [
    {
     "data": {
      "text/plain": [
       "array([[<Axes: title={'center': 'Avg. intensity'}>,\n",
       "        <Axes: title={'center': 'Max. intensity'}>]], dtype=object)"
      ]
     },
     "execution_count": 204,
     "metadata": {},
     "output_type": "execute_result"
    },
    {
     "data": {
      "image/png": "[encoded data removed]",
      "text/plain": [
       "<Figure size 1000x500 with 2 Axes>"
      ]
     },
     "metadata": {},
     "output_type": "display_data"
    }
   ],
   "source": [
    "blob_dataframe[['Avg. intensity', 'Max. intensity']].hist(bins=50, figsize=(10, 5), color='green')"
   ]
  },
  {
   "cell_type": "code",
   "execution_count": 205,
   "metadata": {},
   "outputs": [
    {
     "data": {
      "text/plain": [
       "<Axes: ylabel='Frequency'>"
      ]
     },
     "execution_count": 205,
     "metadata": {},
     "output_type": "execute_result"
    },
    {
     "data": {
      "image/png": "[encoded data removed]",
      "text/plain": [
       "<Figure size 1000x500 with 1 Axes>"
      ]
     },
     "metadata": {},
     "output_type": "display_data"
    }
   ],
   "source": [
    "blob_dataframe[['Avg. intensity', 'Max. intensity']].plot(kind='hist', bins=200, alpha=0.5, figsize=(10, 5), range=(0, 200))"
   ]
  },
  {
   "cell_type": "code",
   "execution_count": null,
   "metadata": {},
   "outputs": [],
   "source": []
  }
 ],
 "metadata": {
  "kernelspec": {
   "display_name": "Python 3",
   "language": "python",
   "name": "python3"
  },
  "language_info": {
   "codemirror_mode": {
    "name": "ipython",
    "version": 3
   },
   "file_extension": ".py",
   "mimetype": "text/x-python",
   "name": "python",
   "nbconvert_exporter": "python",
   "pygments_lexer": "ipython3",
   "version": "3.11.4"
  },
  "orig_nbformat": 4
 },
 "nbformat": 4,
 "nbformat_minor": 2
}
