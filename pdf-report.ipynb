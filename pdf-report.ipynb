{
 "cells": [
  {
   "cell_type": "code",
   "execution_count": 26,
   "metadata": {},
   "outputs": [],
   "source": [
    "# auto-reload modules when they have changed\n",
    "%reload_ext autoreload\n",
    "%autoreload 2"
   ]
  },
  {
   "cell_type": "code",
   "execution_count": 27,
   "metadata": {},
   "outputs": [],
   "source": [
    "from modules.load import image, timestamps\n",
    "from modules.visualize import plot, report\n",
    "import matplotlib.pyplot as plt\n",
    "import os\n",
    "from ipyfilechooser import FileChooser\n",
    "import config.config as cfg"
   ]
  },
  {
   "cell_type": "code",
   "execution_count": 28,
   "metadata": {},
   "outputs": [
    {
     "name": "stdout",
     "output_type": "stream",
     "text": [
      "Directory already exists.\n",
      "PDF report already exists.\n"
     ]
    }
   ],
   "source": [
    "data_path_pdf = cfg.data_path_pdf\n",
    "report.create(data_path_pdf)\n"
   ]
  },
  {
   "cell_type": "code",
   "execution_count": 29,
   "metadata": {},
   "outputs": [],
   "source": [
    "#fc = FileChooser()\n",
    "\n"
   ]
  },
  {
   "cell_type": "code",
   "execution_count": 30,
   "metadata": {},
   "outputs": [],
   "source": [
    "#print(fc.selected)"
   ]
  },
  {
   "cell_type": "code",
   "execution_count": 31,
   "metadata": {},
   "outputs": [
    {
     "data": {
      "text/plain": [
       "\"import os\\nimport glob\\n\\n# Define the directory path and file pattern\\ndir_path = '/Users/kappel/Messungen/Setup04/JaKa/post_hack/23_06_09/293K/10uW/'\\nfile_pattern = 'tt_PMI_1e6_PMMA_1gl_10uW_*_circpol_*.h5'\\n\\n# Get a list of all the files that match the pattern\\nfile_list = glob.glob(os.path.join(dir_path, file_pattern))\\n\\n# Loop over the files and rename them\\nfor file_path in file_list:\\n    # Get the file name and split it into parts\\n    file_name = os.path.basename(file_path)\\n    parts = file_name.split('_')\\n\\n    # Replace the temperature in the file name\\n    parts[6] = '293K'\\n\\n    # Join the parts back together and rename the file\\n    new_file_name = '_'.join(parts)\\n    new_file_path = os.path.join(dir_path, new_file_name)\\n    os.rename(file_path, new_file_path)\""
      ]
     },
     "execution_count": 31,
     "metadata": {},
     "output_type": "execute_result"
    }
   ],
   "source": [
    "'''import os\n",
    "import glob\n",
    "\n",
    "# Define the directory path and file pattern\n",
    "dir_path = '/Users/kappel/Messungen/Setup04/JaKa/post_hack/23_06_09/293K/10uW/'\n",
    "file_pattern = 'tt_PMI_1e6_PMMA_1gl_10uW_*_circpol_*.h5'\n",
    "\n",
    "# Get a list of all the files that match the pattern\n",
    "file_list = glob.glob(os.path.join(dir_path, file_pattern))\n",
    "\n",
    "# Loop over the files and rename them\n",
    "for file_path in file_list:\n",
    "    # Get the file name and split it into parts\n",
    "    file_name = os.path.basename(file_path)\n",
    "    parts = file_name.split('_')\n",
    "\n",
    "    # Replace the temperature in the file name\n",
    "    parts[6] = '293K'\n",
    "\n",
    "    # Join the parts back together and rename the file\n",
    "    new_file_name = '_'.join(parts)\n",
    "    new_file_path = os.path.join(dir_path, new_file_name)\n",
    "    os.rename(file_path, new_file_path)'''"
   ]
  },
  {
   "cell_type": "code",
   "execution_count": 32,
   "metadata": {},
   "outputs": [],
   "source": [
    "image_path = cfg.image_path\n",
    "\n",
    "from modules.load import image\n",
    "from modules.visualize import plot\n",
    "\n",
    "im = image.load_from_path(image_path)\n",
    "plot.image(im, title=True, save_path=\"/Users/kappel/Desktop/\")"
   ]
  },
  {
   "cell_type": "code",
   "execution_count": 40,
   "metadata": {},
   "outputs": [
    {
     "name": "stdout",
     "output_type": "stream",
     "text": [
      "Directory already exists.\n"
     ]
    },
    {
     "name": "stderr",
     "output_type": "stream",
     "text": [
      "  Creating PDF: 100%|██████████| 33/33 [00:34<00:00,  1.06s/it]\n"
     ]
    },
    {
     "name": "stdout",
     "output_type": "stream",
     "text": [
      "PDF report created.\n"
     ]
    }
   ],
   "source": [
    "report.create(cfg.image_data_path_pdf, plot_type='image')"
   ]
  }
 ],
 "metadata": {
  "kernelspec": {
   "display_name": "Python 3",
   "language": "python",
   "name": "python3"
  },
  "language_info": {
   "codemirror_mode": {
    "name": "ipython",
    "version": 3
   },
   "file_extension": ".py",
   "mimetype": "text/x-python",
   "name": "python",
   "nbconvert_exporter": "python",
   "pygments_lexer": "ipython3",
   "version": "3.11.4"
  },
  "orig_nbformat": 4
 },
 "nbformat": 4,
 "nbformat_minor": 2
}
