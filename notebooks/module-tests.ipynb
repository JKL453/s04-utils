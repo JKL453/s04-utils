{
 "cells": [
  {
   "cell_type": "code",
   "execution_count": 1,
   "metadata": {},
   "outputs": [],
   "source": [
    "from s04utils.modules.load.Timestamps import Timestamps\n",
    "from s04utils.modules.load.BinnedTimestamps import BinnedTimestamps\n",
    "\n",
    "from s04utils.modules.analyze.dwelltime_analyzer import DwellTimeAnalyzer\n",
    "from s04utils.modules.analyze.dwelltime_analyzer_v2 import DwelltimeAnalyzer\n",
    "\n",
    "from matplotlib import pyplot as plt\n",
    "from matplotlib_inline.backend_inline import set_matplotlib_formats\n"
   ]
  },
  {
   "cell_type": "code",
   "execution_count": 2,
   "metadata": {},
   "outputs": [],
   "source": [
    "# Set quality for plt plots\n",
    "set_matplotlib_formats('retina')"
   ]
  },
  {
   "cell_type": "code",
   "execution_count": 3,
   "metadata": {},
   "outputs": [],
   "source": [
    "# set path to data files folder\n",
    "SOURCE_PATH = '/Users/kappel/Messungen/Setup04/JaKa/23_08_07/77K-16nM-eGFP-vitrified/10uW/timestamps/tt_eGFP_16dot5nm_NaP_100mM_ph7dot5_Treh7dot5_10uW_77K_circpol_037.h5'\n",
    "#SOURCE_PATH = '/Users/kappel/Messungen/Setup04/JaKa/23_08_07/77K-16nM-eGFP-vitrified/10uW/timestamps/tt_eGFP_16dot5nm_NaP_100mM_ph7dot5_Treh7dot5_10uW_77K_circpol_018.h5'"
   ]
  },
  {
   "cell_type": "code",
   "execution_count": 4,
   "metadata": {},
   "outputs": [],
   "source": [
    "timestamps = Timestamps(SOURCE_PATH)"
   ]
  },
  {
   "cell_type": "code",
   "execution_count": 5,
   "metadata": {},
   "outputs": [],
   "source": [
    "timestamps_binned = BinnedTimestamps(SOURCE_PATH, bin_width=0.01)"
   ]
  },
  {
   "cell_type": "code",
   "execution_count": 6,
   "metadata": {},
   "outputs": [
    {
     "name": "stdout",
     "output_type": "stream",
     "text": [
      "cursor position:\n",
      "  x: 1,098478E-4 m\n",
      "  y: 9,394756E-5 m\n",
      "['cursor position:', '  x: 1,098478E-4 m', '  y: 9,394756E-5 m']\n",
      "['cursor position:', 'x: 1,098478E-4 m', 'y: 9,394756E-5 m']\n",
      "{'cursor position:': ['x: 1,098478E-4 m', 'y: 9,394756E-5 m']}\n"
     ]
    }
   ],
   "source": [
    "comment = timestamps.h5_content['comment'][()].decode('utf-8')\n",
    "print(comment)\n",
    "\n",
    "# parse the comment\n",
    "comment = comment.split('\\n')\n",
    "print(comment)\n",
    "\n",
    "# strip spaces from the comment\n",
    "comment = [line.strip() for line in comment]\n",
    "print(comment)\n",
    "\n",
    "# create dictionary from comment\n",
    "# first line is the first key, the rest is the value\n",
    "comment_dict = {comment[0]: comment[1:]}\n",
    "\n",
    "\n",
    "\n",
    "print(comment_dict)"
   ]
  },
  {
   "cell_type": "code",
   "execution_count": 7,
   "metadata": {},
   "outputs": [
    {
     "name": "stdout",
     "output_type": "stream",
     "text": [
      "Energy detector_0: 451005\n",
      "Energy detector_1: 1165971\n"
     ]
    }
   ],
   "source": [
    "analyzer = DwellTimeAnalyzer(timestamps_binned, min_states=2, max_states=2)"
   ]
  },
  {
   "cell_type": "markdown",
   "metadata": {},
   "source": [
    "* how many steps found in signal?\n",
    "* use optimal number of steps or a fixed number of steps?"
   ]
  },
  {
   "cell_type": "code",
   "execution_count": 8,
   "metadata": {},
   "outputs": [],
   "source": [
    "dwell_times = analyzer.dwell_times"
   ]
  },
  {
   "cell_type": "markdown",
   "metadata": {},
   "source": [
    "* which detector signal should be used for the steps analysis?\n",
    "* choose the best detector signal for the steps analysis\n",
    "* get dwell time from the chosen detector signal"
   ]
  },
  {
   "cell_type": "code",
   "execution_count": 9,
   "metadata": {},
   "outputs": [
    {
     "name": "stdout",
     "output_type": "stream",
     "text": [
      "detector_0\n",
      "10 [1009]\n",
      "12 [1005]\n",
      "detector_1\n",
      "7 [   4   13    1    0    0    6    0    1    1    2    5    6    8    7\n",
      "    0    5    1    4    2    2    0    2    3    5    1    5    0    1\n",
      "    0    8    0   12    1    3    5    3    4    2    1    3   11    4\n",
      "    3    0    4    5    3    5    2    1    0   12    3    5    0    3\n",
      "    1    5    2    3    5    2    0    1    7    3    2    0    2    0\n",
      "    0    2    7   13    1   10    3    2    0    2    3    5   13    2\n",
      "    0    0    3    3    2    5    2    3    7    1    5    0    4    0\n",
      "    0    1    2    3    1    2    0    3    4    3    2    5    1    5\n",
      "    7    4    7    8    1    4    0    0    1    9    0    4    9    4\n",
      "    1    0    0    2    3    1    5    0    3    1   16    2    2    3\n",
      "    3    0    2    6    4    9    0    7    0    0    0    6   15    3\n",
      "    1    1    6    5    0    6    4    2    1    2    1    2    1    7\n",
      "    7    3    3    1    1    2    4    1    6    6    1   10    3    3\n",
      "    0    6    3   11    0    0    2    1   10    0    0    6    0    0\n",
      "    7    2    9    1    8    3    0    1    5    9    2    3    1    7\n",
      "    0    0    2    2    3    2    0   11    1   19    1 1491    8]\n",
      "32 [ 3  0  2  0  8  0  5  0  0  1  1  0  2  0  2  0  3  1  0  4  1  0  0  7\n",
      "  1  0  3  4  1  0  9  1  0  0  3  0  1  0  1  0  0  1  0  0  1  1  2  3\n",
      "  2 17  1  0  5  0  1  3  0  0  2  3  0  1  0  2  0  3  4  5  3  0  3  0\n",
      "  2  2  1  1  0  0  6  0  1  1  0  0  3  0  1  3  2  0  0  1  1  0  2  0\n",
      "  0  4  0  2  0  0  1  1  2  1  0  1  0  0  0  0  3  1  1  0  0  0  2  3\n",
      "  0  0  2  1  2  1  0  1  1  4  0  1  0  0  0  2  0  4  4  6  0  0  0  2\n",
      "  3  0  0  8  0  3  2  1  4  0  3  1  0  2  2  1  0  1  0  0  1  1  0  1\n",
      "  0  1  0  1  1  2  0  0  1  1  4  0  1  7 10  2  4  0  0  4  0  0  1  1\n",
      "  2  0  0  0  0  0  0  0  0  1  0  3  8  0  4  2  3  1  3  0  1  0  2  0\n",
      "  2  1  1  0  0  0]\n",
      "detector_sum\n",
      "19 [  4   0  16   0   0   2   6   1   1   1   2   5   6   8   0   7   0   5\n",
      "   1   0   5   2   2   0   2   7   5   0   1   5   0   4   0   8   0   2\n",
      "   1  12   1  10   0   3   4   2   1  22   3   0   4   5   3   7   0   4\n",
      "   1   0   7   1  17   0   5   0   3   0   1   5   3   3   5   2   3  13\n",
      "   2   1   2   0   3   2   7  13   1  11   2   2   1   0   2   3   5  14\n",
      "   2   1   0   3   4   3   5   2   3   8   8   8   0   0   1   2   3   1\n",
      "   3   0   3   4   3   2   4   1   5   7   4   8  11   4   0   0   0   1\n",
      "   8   0   4   4   3   4   3   0   4   3   1  12   1  17   2   2   0   0\n",
      "   3   3   0   2   6   4   0   9   0   7   0   2   0   7  15   3   1   1\n",
      "   6   5   0   9   4   2   2   2   1   2   1   8   7   9   1   1   2   5\n",
      "   1   3   1   6   2  10   3   3   0   0   7   0   6   3   0  11   0   0\n",
      "  18   0   0   0   6   0   0  11  12   8   3   0   1   0   5   0   0  10\n",
      "   2   0   3   1   8   0   0   2   2   3   0   2   0  11   3  22 172   8]\n",
      "50 [1 0 2 0 2 2 0 4 0 0 1 1 0 0 0 0 2 0 0 1 0 0 1 0 0 0 3 2 1 0 3 1 1 0 2 0 0\n",
      " 1 0 1 0 0 1 0 1 1 0 0 1 1 0 1 0 0 4 0 2 0 3 0 0 1 0 1 0 0 1 3 0 1 1 3 4 4\n",
      " 0 1 2 0 2 2 0 0 2 0 1 2 0 1 0 0 0 2 0 0 3 1 0 0 1 0 2 2 0 0 2 0 0 0 1 2 1\n",
      " 0 1 0 1 0 0 3 0 1 0 0 0 0 3 0 1 2 1 0 2 1 1 1 2 0 1 0 1 0 4 0 0 0 6 0 0 0\n",
      " 2 0 1 0 0 3 3 3 2 0 4 0 3 1 0 2 0 0 0 0 0 0 1 1 0 0 0 0 1 1 1 0 0 0 1 0 4\n",
      " 0 1 2 1 0 1 0 2 2 0 0 0 3 1 1 0 0 0 0 0 0 0 0 1 0 0 1 1 2 0 0 0 2 2 3 0 3\n",
      " 0 1 0 0 0 0 2 0 0 0 0]\n"
     ]
    }
   ],
   "source": [
    "for detector in dwell_times.keys():\n",
    "    print(detector)\n",
    "    for state in dwell_times[detector].keys():\n",
    "        print(state, dwell_times[detector][state])"
   ]
  },
  {
   "cell_type": "markdown",
   "metadata": {},
   "source": [
    "* plot the chosen detector signal and the steps found\n",
    "* plot the chosen detector signal and the steps found with the dwell time"
   ]
  },
  {
   "cell_type": "markdown",
   "metadata": {},
   "source": [
    "* plot the dwell time histogram"
   ]
  },
  {
   "cell_type": "code",
   "execution_count": 10,
   "metadata": {},
   "outputs": [
    {
     "name": "stdout",
     "output_type": "stream",
     "text": [
      "Energy detector_0: 451005\n",
      "Energy detector_1: 1165971\n",
      "detector_1\n"
     ]
    }
   ],
   "source": [
    "best_detector = analyzer.get_best_detector(timestamps_binned)\n",
    "print(best_detector)"
   ]
  },
  {
   "cell_type": "code",
   "execution_count": 11,
   "metadata": {},
   "outputs": [
    {
     "name": "stdout",
     "output_type": "stream",
     "text": [
      "Detector selection:\n",
      "-------------------\n",
      "Energy detector_0:  451005\n",
      "Energy detector_1:  1165971\n",
      "detector_1 selected\n",
      "-------------------\n",
      "[10  8  4 ... 10  6  8]\n"
     ]
    }
   ],
   "source": [
    "dta = DwelltimeAnalyzer()\n",
    "\n",
    "dta.load_data(timestamps_binned)\n",
    "dta.set_detector('auto')\n",
    "print(dta.signal)"
   ]
  },
  {
   "cell_type": "code",
   "execution_count": 12,
   "metadata": {},
   "outputs": [],
   "source": [
    "dta.set_analysis_method('sfHMM')"
   ]
  },
  {
   "cell_type": "code",
   "execution_count": 13,
   "metadata": {},
   "outputs": [],
   "source": [
    "dta.get_last_state_change()"
   ]
  },
  {
   "cell_type": "code",
   "execution_count": 14,
   "metadata": {},
   "outputs": [
    {
     "name": "stdout",
     "output_type": "stream",
     "text": [
      "Optimal number of states:  4\n"
     ]
    }
   ],
   "source": [
    "dta.get_opt_num_states()"
   ]
  },
  {
   "cell_type": "code",
   "execution_count": 15,
   "metadata": {},
   "outputs": [],
   "source": [
    "dta.trim_signal()\n",
    "dta.fit_sfHMM()"
   ]
  },
  {
   "cell_type": "code",
   "execution_count": 16,
   "metadata": {},
   "outputs": [
    {
     "data": {
      "image/png": "[encoded data removed]",
      "text/plain": [
       "<Figure size 600x100 with 1 Axes>"
      ]
     },
     "metadata": {
      "image/png": {
       "height": 120,
       "width": 521
      }
     },
     "output_type": "display_data"
    },
    {
     "data": {
      "image/png": "[encoded data removed]",
      "text/plain": [
       "<Figure size 600x100 with 1 Axes>"
      ]
     },
     "metadata": {
      "image/png": {
       "height": 120,
       "width": 521
      }
     },
     "output_type": "display_data"
    }
   ],
   "source": [
    "\n",
    "plt.figure(figsize=(6, 1))\n",
    "plt.plot(dta.signal)\n",
    "plt.axvline(x=dta.last_state_change, color='r')\n",
    "plt.show()\n",
    "\n",
    "plt.figure(figsize=(6, 1))\n",
    "plt.plot(dta.signal_trimmed)\n",
    "plt.plot(dta.viterbi_path)\n",
    "plt.show()"
   ]
  },
  {
   "cell_type": "code",
   "execution_count": 17,
   "metadata": {},
   "outputs": [
    {
     "name": "stdout",
     "output_type": "stream",
     "text": [
      "DwelltimeAnalyzer - get_dwell_times: dwell times:  {7: array([   50,   140,    20,    10,    10,    70,    10,    20,    20,\n",
      "          30,    60,    70,    90,    80,    10,    60,    20,    50,\n",
      "          30,    30,    10,    30,    40,    60,    20,    60,    10,\n",
      "          20,    10,    90,    10,   130,    20,    40,    60,    40,\n",
      "          50,    30,    20,    40,   120,    50,    40,    10,    50,\n",
      "          60,    40,    60,    30,    20,    10,   130,    40,    60,\n",
      "          10,    40,    20,    60,    30,    40,    60,    30,    10,\n",
      "          20,    80,    40,    30,    10,    30,    10,    10,    30,\n",
      "          80,   140,    20,   110,    40,    30,    10,    30,    40,\n",
      "          60,   140,    30,    10,    10,    40,    40,    30,    60,\n",
      "          30,    40,    80,    20,    60,    10,    50,    10,    10,\n",
      "          20,    30,    40,    20,    30,    10,    40,    50,    40,\n",
      "          30,    60,    20,    60,    80,    50,    80,    90,    20,\n",
      "          50,    10,    10,    20,   100,    10,    50,   100,    50,\n",
      "          20,    10,    10,    30,    40,    20,    60,    10,    40,\n",
      "          20,   170,    30,    30,    40,    40,    10,    30,    70,\n",
      "          50,   100,    10,    80,    10,    10,    10,    70,   160,\n",
      "          40,    20,    20,    70,    60,    10,    70,    50,    30,\n",
      "          20,    30,    20,    30,    20,    80,    80,    40,    40,\n",
      "          20,    20,    30,    50,    20,    70,    70,    20,   110,\n",
      "          40,    40,    10,    70,    40,   120,    10,    10,    30,\n",
      "          20,   110,    10,    10,    70,    10,    10,    80,    30,\n",
      "         100,    20,    90,    40,    10,    20,    60,   100,    30,\n",
      "          40,    20,    80,    10,    10,    30,    30,    40,    30,\n",
      "          10,   120,    20,   200,    20, 14920,    90]), 32: array([ 40,  10,  30,  10,  90,  10,  60,  10,  10,  20,  20,  10,  30,\n",
      "        10,  30,  10,  40,  20,  10,  50,  20,  10,  10,  80,  20,  10,\n",
      "        40,  50,  20,  10, 100,  20,  10,  10,  40,  10,  20,  10,  20,\n",
      "        10,  10,  20,  10,  10,  20,  20,  30,  40,  30, 180,  20,  10,\n",
      "        60,  10,  20,  40,  10,  10,  30,  40,  10,  20,  10,  30,  10,\n",
      "        40,  50,  60,  40,  10,  40,  10,  30,  30,  20,  20,  10,  10,\n",
      "        70,  10,  20,  20,  10,  10,  40,  10,  20,  40,  30,  10,  10,\n",
      "        20,  20,  10,  30,  10,  10,  50,  10,  30,  10,  10,  20,  20,\n",
      "        30,  20,  10,  20,  10,  10,  10,  10,  40,  20,  20,  10,  10,\n",
      "        10,  30,  40,  10,  10,  30,  20,  30,  20,  10,  20,  20,  50,\n",
      "        10,  20,  10,  10,  10,  30,  10,  50,  50,  70,  10,  10,  10,\n",
      "        30,  40,  10,  10,  90,  10,  40,  30,  20,  50,  10,  40,  20,\n",
      "        10,  30,  30,  20,  10,  20,  10,  10,  20,  20,  10,  20,  10,\n",
      "        20,  10,  20,  20,  30,  10,  10,  20,  20,  50,  10,  20,  80,\n",
      "       110,  30,  50,  10,  10,  50,  10,  10,  20,  20,  30,  10,  10,\n",
      "        10,  10,  10,  10,  10,  10,  20,  10,  40,  90,  10,  50,  30,\n",
      "        40,  20,  40,  10,  20,  10,  30,  10,  30,  20,  20,  10,  10,\n",
      "        10])}\n",
      "{7: array([   50,   140,    20,    10,    10,    70,    10,    20,    20,\n",
      "          30,    60,    70,    90,    80,    10,    60,    20,    50,\n",
      "          30,    30,    10,    30,    40,    60,    20,    60,    10,\n",
      "          20,    10,    90,    10,   130,    20,    40,    60,    40,\n",
      "          50,    30,    20,    40,   120,    50,    40,    10,    50,\n",
      "          60,    40,    60,    30,    20,    10,   130,    40,    60,\n",
      "          10,    40,    20,    60,    30,    40,    60,    30,    10,\n",
      "          20,    80,    40,    30,    10,    30,    10,    10,    30,\n",
      "          80,   140,    20,   110,    40,    30,    10,    30,    40,\n",
      "          60,   140,    30,    10,    10,    40,    40,    30,    60,\n",
      "          30,    40,    80,    20,    60,    10,    50,    10,    10,\n",
      "          20,    30,    40,    20,    30,    10,    40,    50,    40,\n",
      "          30,    60,    20,    60,    80,    50,    80,    90,    20,\n",
      "          50,    10,    10,    20,   100,    10,    50,   100,    50,\n",
      "          20,    10,    10,    30,    40,    20,    60,    10,    40,\n",
      "          20,   170,    30,    30,    40,    40,    10,    30,    70,\n",
      "          50,   100,    10,    80,    10,    10,    10,    70,   160,\n",
      "          40,    20,    20,    70,    60,    10,    70,    50,    30,\n",
      "          20,    30,    20,    30,    20,    80,    80,    40,    40,\n",
      "          20,    20,    30,    50,    20,    70,    70,    20,   110,\n",
      "          40,    40,    10,    70,    40,   120,    10,    10,    30,\n",
      "          20,   110,    10,    10,    70,    10,    10,    80,    30,\n",
      "         100,    20,    90,    40,    10,    20,    60,   100,    30,\n",
      "          40,    20,    80,    10,    10,    30,    30,    40,    30,\n",
      "          10,   120,    20,   200,    20, 14920,    90]), 32: array([ 40,  10,  30,  10,  90,  10,  60,  10,  10,  20,  20,  10,  30,\n",
      "        10,  30,  10,  40,  20,  10,  50,  20,  10,  10,  80,  20,  10,\n",
      "        40,  50,  20,  10, 100,  20,  10,  10,  40,  10,  20,  10,  20,\n",
      "        10,  10,  20,  10,  10,  20,  20,  30,  40,  30, 180,  20,  10,\n",
      "        60,  10,  20,  40,  10,  10,  30,  40,  10,  20,  10,  30,  10,\n",
      "        40,  50,  60,  40,  10,  40,  10,  30,  30,  20,  20,  10,  10,\n",
      "        70,  10,  20,  20,  10,  10,  40,  10,  20,  40,  30,  10,  10,\n",
      "        20,  20,  10,  30,  10,  10,  50,  10,  30,  10,  10,  20,  20,\n",
      "        30,  20,  10,  20,  10,  10,  10,  10,  40,  20,  20,  10,  10,\n",
      "        10,  30,  40,  10,  10,  30,  20,  30,  20,  10,  20,  20,  50,\n",
      "        10,  20,  10,  10,  10,  30,  10,  50,  50,  70,  10,  10,  10,\n",
      "        30,  40,  10,  10,  90,  10,  40,  30,  20,  50,  10,  40,  20,\n",
      "        10,  30,  30,  20,  10,  20,  10,  10,  20,  20,  10,  20,  10,\n",
      "        20,  10,  20,  20,  30,  10,  10,  20,  20,  50,  10,  20,  80,\n",
      "       110,  30,  50,  10,  10,  50,  10,  10,  20,  20,  30,  10,  10,\n",
      "        10,  10,  10,  10,  10,  10,  20,  10,  40,  90,  10,  50,  30,\n",
      "        40,  20,  40,  10,  20,  10,  30,  10,  30,  20,  20,  10,  10,\n",
      "        10])}\n"
     ]
    }
   ],
   "source": [
    "dta.get_dwell_times()\n",
    "\n",
    "print(dta.dwelltimes)"
   ]
  },
  {
   "cell_type": "code",
   "execution_count": 18,
   "metadata": {},
   "outputs": [],
   "source": [
    "#dta.analyze(analysis_method='sfHMM', detector_selection='auto')"
   ]
  },
  {
   "cell_type": "code",
   "execution_count": 19,
   "metadata": {},
   "outputs": [
    {
     "name": "stdout",
     "output_type": "stream",
     "text": [
      "{'off': array([   50,   140,    20,    10,    10,    70,    10,    20,    20,\n",
      "          30,    60,    70,    90,    80,    10,    60,    20,    50,\n",
      "          30,    30,    10,    30,    40,    60,    20,    60,    10,\n",
      "          20,    10,    90,    10,   130,    20,    40,    60,    40,\n",
      "          50,    30,    20,    40,   120,    50,    40,    10,    50,\n",
      "          60,    40,    60,    30,    20,    10,   130,    40,    60,\n",
      "          10,    40,    20,    60,    30,    40,    60,    30,    10,\n",
      "          20,    80,    40,    30,    10,    30,    10,    10,    30,\n",
      "          80,   140,    20,   110,    40,    30,    10,    30,    40,\n",
      "          60,   140,    30,    10,    10,    40,    40,    30,    60,\n",
      "          30,    40,    80,    20,    60,    10,    50,    10,    10,\n",
      "          20,    30,    40,    20,    30,    10,    40,    50,    40,\n",
      "          30,    60,    20,    60,    80,    50,    80,    90,    20,\n",
      "          50,    10,    10,    20,   100,    10,    50,   100,    50,\n",
      "          20,    10,    10,    30,    40,    20,    60,    10,    40,\n",
      "          20,   170,    30,    30,    40,    40,    10,    30,    70,\n",
      "          50,   100,    10,    80,    10,    10,    10,    70,   160,\n",
      "          40,    20,    20,    70,    60,    10,    70,    50,    30,\n",
      "          20,    30,    20,    30,    20,    80,    80,    40,    40,\n",
      "          20,    20,    30,    50,    20,    70,    70,    20,   110,\n",
      "          40,    40,    10,    70,    40,   120,    10,    10,    30,\n",
      "          20,   110,    10,    10,    70,    10,    10,    80,    30,\n",
      "         100,    20,    90,    40,    10,    20,    60,   100,    30,\n",
      "          40,    20,    80,    10,    10,    30,    30,    40,    30,\n",
      "          10,   120,    20,   200,    20, 14920,    90]), 'on': array([ 40,  10,  30,  10,  90,  10,  60,  10,  10,  20,  20,  10,  30,\n",
      "        10,  30,  10,  40,  20,  10,  50,  20,  10,  10,  80,  20,  10,\n",
      "        40,  50,  20,  10, 100,  20,  10,  10,  40,  10,  20,  10,  20,\n",
      "        10,  10,  20,  10,  10,  20,  20,  30,  40,  30, 180,  20,  10,\n",
      "        60,  10,  20,  40,  10,  10,  30,  40,  10,  20,  10,  30,  10,\n",
      "        40,  50,  60,  40,  10,  40,  10,  30,  30,  20,  20,  10,  10,\n",
      "        70,  10,  20,  20,  10,  10,  40,  10,  20,  40,  30,  10,  10,\n",
      "        20,  20,  10,  30,  10,  10,  50,  10,  30,  10,  10,  20,  20,\n",
      "        30,  20,  10,  20,  10,  10,  10,  10,  40,  20,  20,  10,  10,\n",
      "        10,  30,  40,  10,  10,  30,  20,  30,  20,  10,  20,  20,  50,\n",
      "        10,  20,  10,  10,  10,  30,  10,  50,  50,  70,  10,  10,  10,\n",
      "        30,  40,  10,  10,  90,  10,  40,  30,  20,  50,  10,  40,  20,\n",
      "        10,  30,  30,  20,  10,  20,  10,  10,  20,  20,  10,  20,  10,\n",
      "        20,  10,  20,  20,  30,  10,  10,  20,  20,  50,  10,  20,  80,\n",
      "       110,  30,  50,  10,  10,  50,  10,  10,  20,  20,  30,  10,  10,\n",
      "        10,  10,  10,  10,  10,  10,  20,  10,  40,  90,  10,  50,  30,\n",
      "        40,  20,  40,  10,  20,  10,  30,  10,  30,  20,  20,  10,  10,\n",
      "        10])}\n"
     ]
    }
   ],
   "source": [
    "dta.rename_dwell_time_states()\n",
    "\n",
    "print(dta.dwelltimes)"
   ]
  }
 ],
 "metadata": {
  "kernelspec": {
   "display_name": "Python 3",
   "language": "python",
   "name": "python3"
  },
  "language_info": {
   "codemirror_mode": {
    "name": "ipython",
    "version": 3
   },
   "file_extension": ".py",
   "mimetype": "text/x-python",
   "name": "python",
   "nbconvert_exporter": "python",
   "pygments_lexer": "ipython3",
   "version": "3.11.6"
  }
 },
 "nbformat": 4,
 "nbformat_minor": 2
}
