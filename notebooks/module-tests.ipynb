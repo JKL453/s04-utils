{
 "cells": [
  {
   "cell_type": "code",
   "execution_count": 1,
   "metadata": {},
   "outputs": [],
   "source": [
    "from s04utils.modules.load.Timestamps import Timestamps\n",
    "from s04utils.modules.load.BinnedTimestamps import BinnedTimestamps\n",
    "\n",
    "from s04utils.modules.analyze.dwelltime_analyzer import DwellTimeAnalyzer\n",
    "from s04utils.modules.analyze.dwelltime_analyzer_v2 import DwelltimeAnalyzer\n",
    "\n",
    "from matplotlib import pyplot as plt"
   ]
  },
  {
   "cell_type": "code",
   "execution_count": 2,
   "metadata": {},
   "outputs": [],
   "source": [
    "# set path to data files folder\n",
    "SOURCE_PATH = '/Users/kappel/Messungen/Setup04/JaKa/23_08_03/77K-6dot6nM-eGFP-vitrified/20uW/timestamps/tt_eGFP_6dot6nm_NaP_100mM_ph7dot5_Treh7dot5_20uW_77K_circpol_012.h5'\n",
    "#SOURCE_PATH = '/Users/kappel/Messungen/Setup04/JaKa/23_08_07/77K-16nM-eGFP-vitrified/10uW/timestamps/tt_eGFP_16dot5nm_NaP_100mM_ph7dot5_Treh7dot5_10uW_77K_circpol_018.h5'"
   ]
  },
  {
   "cell_type": "code",
   "execution_count": 3,
   "metadata": {},
   "outputs": [],
   "source": [
    "timestamps = Timestamps(SOURCE_PATH)"
   ]
  },
  {
   "cell_type": "code",
   "execution_count": 4,
   "metadata": {},
   "outputs": [],
   "source": [
    "timestamps_binned = BinnedTimestamps(SOURCE_PATH, bin_width=0.01)"
   ]
  },
  {
   "cell_type": "code",
   "execution_count": 5,
   "metadata": {},
   "outputs": [
    {
     "name": "stdout",
     "output_type": "stream",
     "text": [
      "cursor position:\n",
      "  x: 1,366376E-4 m\n",
      "  y: 1,103154E-4 m\n",
      "['cursor position:', '  x: 1,366376E-4 m', '  y: 1,103154E-4 m']\n",
      "['cursor position:', 'x: 1,366376E-4 m', 'y: 1,103154E-4 m']\n",
      "{'cursor position:': ['x: 1,366376E-4 m', 'y: 1,103154E-4 m']}\n"
     ]
    }
   ],
   "source": [
    "comment = timestamps.h5_content['comment'][()].decode('utf-8')\n",
    "print(comment)\n",
    "\n",
    "# parse the comment\n",
    "comment = comment.split('\\n')\n",
    "print(comment)\n",
    "\n",
    "# strip spaces from the comment\n",
    "comment = [line.strip() for line in comment]\n",
    "print(comment)\n",
    "\n",
    "# create dictionary from comment\n",
    "# first line is the first key, the rest is the value\n",
    "comment_dict = {comment[0]: comment[1:]}\n",
    "\n",
    "\n",
    "\n",
    "print(comment_dict)"
   ]
  },
  {
   "cell_type": "code",
   "execution_count": 6,
   "metadata": {},
   "outputs": [
    {
     "name": "stdout",
     "output_type": "stream",
     "text": [
      "Energy detector_0: 920868\n",
      "Energy detector_1: 1126174\n"
     ]
    }
   ],
   "source": [
    "analyzer = DwellTimeAnalyzer(timestamps_binned, min_states=2, max_states=2)"
   ]
  },
  {
   "cell_type": "markdown",
   "metadata": {},
   "source": [
    "* how many steps found in signal?\n",
    "* use optimal number of steps or a fixed number of steps?"
   ]
  },
  {
   "cell_type": "code",
   "execution_count": 7,
   "metadata": {},
   "outputs": [],
   "source": [
    "dwell_times = analyzer.dwell_times"
   ]
  },
  {
   "cell_type": "markdown",
   "metadata": {},
   "source": [
    "* which detector signal should be used for the steps analysis?\n",
    "* choose the best detector signal for the steps analysis\n",
    "* get dwell time from the chosen detector signal"
   ]
  },
  {
   "cell_type": "code",
   "execution_count": 8,
   "metadata": {},
   "outputs": [
    {
     "name": "stdout",
     "output_type": "stream",
     "text": [
      "detector_0\n",
      "11 [ 488 1787    9]\n",
      "24 [22  4 68]\n",
      "detector_1\n",
      "12 [ 487 1771    8]\n",
      "37 [22  6 84]\n",
      "detector_sum\n",
      "23 [ 488 1786    8]\n",
      "64 [22  5 69]\n"
     ]
    }
   ],
   "source": [
    "for detector in dwell_times.keys():\n",
    "    print(detector)\n",
    "    for state in dwell_times[detector].keys():\n",
    "        print(state, dwell_times[detector][state])"
   ]
  },
  {
   "cell_type": "markdown",
   "metadata": {},
   "source": [
    "* plot the chosen detector signal and the steps found\n",
    "* plot the chosen detector signal and the steps found with the dwell time"
   ]
  },
  {
   "cell_type": "markdown",
   "metadata": {},
   "source": [
    "* plot the dwell time histogram"
   ]
  },
  {
   "cell_type": "code",
   "execution_count": 9,
   "metadata": {},
   "outputs": [
    {
     "name": "stdout",
     "output_type": "stream",
     "text": [
      "Energy detector_0: 920868\n",
      "Energy detector_1: 1126174\n",
      "detector_1\n"
     ]
    }
   ],
   "source": [
    "best_detector = analyzer.get_best_detector(timestamps_binned)\n",
    "print(best_detector)"
   ]
  },
  {
   "cell_type": "code",
   "execution_count": 10,
   "metadata": {},
   "outputs": [
    {
     "name": "stdout",
     "output_type": "stream",
     "text": [
      "Detector selection:\n",
      "-------------------\n",
      "Energy detector_0:  920868\n",
      "Energy detector_1:  1126174\n",
      "detector_1 selected\n",
      "-------------------\n",
      "[81 79 72 ... 11  8  8]\n"
     ]
    }
   ],
   "source": [
    "dta = DwelltimeAnalyzer()\n",
    "\n",
    "dta.load_data(timestamps_binned)\n",
    "dta.set_detector('auto')\n",
    "print(dta.signal)"
   ]
  },
  {
   "cell_type": "code",
   "execution_count": 11,
   "metadata": {},
   "outputs": [],
   "source": [
    "dta.set_analysis_method('sfHMM')"
   ]
  },
  {
   "cell_type": "code",
   "execution_count": 12,
   "metadata": {},
   "outputs": [
    {
     "data": {
      "image/png": "[encoded data removed]",
      "text/plain": [
       "<Figure size 600x100 with 1 Axes>"
      ]
     },
     "metadata": {},
     "output_type": "display_data"
    }
   ],
   "source": [
    "dta.get_last_state_change()"
   ]
  },
  {
   "cell_type": "code",
   "execution_count": 13,
   "metadata": {},
   "outputs": [
    {
     "name": "stdout",
     "output_type": "stream",
     "text": [
      "Optimal number of states:  9\n"
     ]
    }
   ],
   "source": [
    "dta.get_opt_num_states()"
   ]
  },
  {
   "cell_type": "code",
   "execution_count": 14,
   "metadata": {},
   "outputs": [
    {
     "name": "stdout",
     "output_type": "stream",
     "text": [
      "[37.35294039 37.35294039 37.35294039 ... 37.35294039 37.35294039\n",
      " 37.35294039]\n"
     ]
    },
    {
     "data": {
      "image/png": "[encoded data removed]",
      "text/plain": [
       "<Figure size 600x100 with 1 Axes>"
      ]
     },
     "metadata": {},
     "output_type": "display_data"
    }
   ],
   "source": [
    "dta.fit_sfHMM()\n",
    "\n",
    "\n",
    "print(dta.viterbi_path)\n",
    "\n",
    "plt.figure(figsize=(6, 1))\n",
    "plt.plot(dta.viterbi_path_fixed)\n",
    "plt.show()"
   ]
  },
  {
   "cell_type": "code",
   "execution_count": 15,
   "metadata": {},
   "outputs": [
    {
     "data": {
      "image/png": "[encoded data removed]",
      "text/plain": [
       "<Figure size 600x100 with 1 Axes>"
      ]
     },
     "metadata": {},
     "output_type": "display_data"
    },
    {
     "data": {
      "image/png": "[encoded data removed]",
      "text/plain": [
       "<Figure size 600x100 with 1 Axes>"
      ]
     },
     "metadata": {},
     "output_type": "display_data"
    }
   ],
   "source": [
    "dta.trim_signal()\n",
    "\n",
    "plt.figure(figsize=(6, 1))\n",
    "plt.plot(dta.signal)\n",
    "plt.axvline(x=dta.last_state_change, color='r')\n",
    "plt.show()\n",
    "\n",
    "plt.figure(figsize=(6, 1))\n",
    "plt.plot(dta.signal_trimmed)\n",
    "plt.plot(dta.viterbi_path_trimmed)\n",
    "plt.show()"
   ]
  },
  {
   "cell_type": "code",
   "execution_count": 16,
   "metadata": {},
   "outputs": [
    {
     "name": "stdout",
     "output_type": "stream",
     "text": [
      "{12: array([ 487, 1771]), 37: array([22,  6, 83])}\n",
      "{'off': array([ 487, 1771]), 'on': array([22,  6, 83])}\n"
     ]
    }
   ],
   "source": [
    "dta.get_dwell_times()\n",
    "\n",
    "print(dta.dwell_times)\n",
    "\n",
    "dta.rename_dwell_time_states()\n",
    "\n",
    "print(dta.dwell_times)"
   ]
  },
  {
   "cell_type": "code",
   "execution_count": 17,
   "metadata": {},
   "outputs": [
    {
     "name": "stdout",
     "output_type": "stream",
     "text": [
      "Detector selection:\n",
      "-------------------\n",
      "Energy detector_0:  920868\n",
      "Energy detector_1:  1126174\n",
      "detector_1 selected\n",
      "-------------------\n"
     ]
    }
   ],
   "source": [
    "dta.analyze(analysis_method='sfHMM', detector_selection='auto')"
   ]
  }
 ],
 "metadata": {
  "kernelspec": {
   "display_name": "Python 3",
   "language": "python",
   "name": "python3"
  },
  "language_info": {
   "codemirror_mode": {
    "name": "ipython",
    "version": 3
   },
   "file_extension": ".py",
   "mimetype": "text/x-python",
   "name": "python",
   "nbconvert_exporter": "python",
   "pygments_lexer": "ipython3",
   "version": "3.11.6"
  }
 },
 "nbformat": 4,
 "nbformat_minor": 2
}
