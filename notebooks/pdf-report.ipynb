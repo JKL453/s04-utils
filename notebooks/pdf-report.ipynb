{
 "cells": [
  {
   "cell_type": "code",
   "execution_count": 47,
   "metadata": {},
   "outputs": [],
   "source": [
    "# auto-reload modules when they have changed\n",
    "%reload_ext autoreload\n",
    "%autoreload 2"
   ]
  },
  {
   "cell_type": "code",
   "execution_count": 48,
   "metadata": {},
   "outputs": [],
   "source": [
    "from modules.load import image, timestamps\n",
    "from modules.visualize import plot, report\n",
    "import matplotlib.pyplot as plt\n",
    "import os\n",
    "import shutil\n",
    "import glob\n",
    "from ipyfilechooser import FileChooser\n",
    "import config.config as cfg\n",
    "#from bokeh.plotting import figure, show, output_notebook, curdoc\n",
    "\n",
    "import ipywidgets as widgets"
   ]
  },
  {
   "cell_type": "code",
   "execution_count": 49,
   "metadata": {},
   "outputs": [
    {
     "data": {
      "text/html": [
       "<style>\n",
       ".cell-output-ipywidget-background {\n",
       "   background-color: transparent !important;\n",
       "}\n",
       ".jp-OutputArea-output {\n",
       "   background-color: transparent;\n",
       "};\n"
      ],
      "text/plain": [
       "<IPython.core.display.HTML object>"
      ]
     },
     "metadata": {},
     "output_type": "display_data"
    }
   ],
   "source": [
    "%%html\n",
    "<style>\n",
    ".cell-output-ipywidget-background {\n",
    "   background-color: transparent !important;\n",
    "}\n",
    ".jp-OutputArea-output {\n",
    "   background-color: transparent;\n",
    "};"
   ]
  },
  {
   "cell_type": "markdown",
   "metadata": {},
   "source": [
    "# Creating a report\n",
    "The report serves as a kind of preview of the measurement data in a folder. Thus it is not necessary to first load and evaluate all the data individually in order to obtain an overview.\n",
    "\n",
    "* Select a folder that contains .h5 (timestamps) and .img (scans) files via *Select* button.\n",
    "\n",
    "* ```report.sort_files(path)``` is used to sort the files into subfolders called '/timestamps' and '/images'. These subfolders are created automatically if they do not exist.\n",
    "\n",
    "* ```report.create(path)``` creates a subfolder called '/plots' that contains preview plots for all measurement files at '/path'. It also generates a pdf that contains all of the individual plots.\n"
   ]
  },
  {
   "cell_type": "code",
   "execution_count": 53,
   "metadata": {
    "tags": [
     "hide-input"
    ]
   },
   "outputs": [
    {
     "name": "stdout",
     "output_type": "stream",
     "text": [
      "Select a file to load\n"
     ]
    },
    {
     "data": {
      "application/vnd.jupyter.widget-view+json": {
       "model_id": "5c5cea5effdf45b7a229a19434157a53",
       "version_major": 2,
       "version_minor": 0
      },
      "text/plain": [
       "FileChooser(path='/Users/kappel/Documents/Programming/python-projects/s04utils', filename='', title='', show_h…"
      ]
     },
     "metadata": {},
     "output_type": "display_data"
    }
   ],
   "source": [
    "fc = FileChooser()\n",
    "fc.show_only_dirs = True\n",
    "print(\"Select a file to load\")\n",
    "# Wait for the user to make a selection\n",
    "while fc.selected_path == '':\n",
    "    pass\n",
    "display(fc)"
   ]
  },
  {
   "cell_type": "code",
   "execution_count": 64,
   "metadata": {},
   "outputs": [
    {
     "name": "stdout",
     "output_type": "stream",
     "text": [
      "Files are already sorted\n"
     ]
    }
   ],
   "source": [
    "# Sort files in selected directory by file type (to directories 'timestamps' and 'images')\n",
    "timestamps_path, images_path = report.sort_files(fc.selected_path)"
   ]
  },
  {
   "cell_type": "code",
   "execution_count": 65,
   "metadata": {},
   "outputs": [
    {
     "name": "stderr",
     "output_type": "stream",
     "text": [
      "Creating plots: 100%|██████████| 14/14 [00:10<00:00,  1.37it/s]\n",
      "  Creating PDF: 100%|██████████| 13/13 [00:07<00:00,  1.73it/s]\n"
     ]
    },
    {
     "name": "stdout",
     "output_type": "stream",
     "text": [
      "PDF report created.\n"
     ]
    },
    {
     "name": "stderr",
     "output_type": "stream",
     "text": [
      "Creating plots: 100%|██████████| 14/14 [00:20<00:00,  1.45s/it]\n",
      "  Creating PDF: 100%|██████████| 13/13 [00:12<00:00,  1.05it/s]"
     ]
    },
    {
     "name": "stdout",
     "output_type": "stream",
     "text": [
      "PDF report created.\n"
     ]
    },
    {
     "name": "stderr",
     "output_type": "stream",
     "text": [
      "\n"
     ]
    }
   ],
   "source": [
    "# Create pdf report from selected path\n",
    "report.create(timestamps_path, plot_type='timetrace')\n",
    "report.create(images_path, plot_type='image')"
   ]
  }
 ],
 "metadata": {
  "kernelspec": {
   "display_name": "Python 3",
   "language": "python",
   "name": "python3"
  },
  "language_info": {
   "codemirror_mode": {
    "name": "ipython",
    "version": 3
   },
   "file_extension": ".py",
   "mimetype": "text/x-python",
   "name": "python",
   "nbconvert_exporter": "python",
   "pygments_lexer": "ipython3",
   "version": "3.11.4"
  },
  "orig_nbformat": 4
 },
 "nbformat": 4,
 "nbformat_minor": 2
}
