{
 "cells": [
  {
   "cell_type": "code",
   "execution_count": 3,
   "metadata": {},
   "outputs": [],
   "source": [
    "from modules.load import timestamps\n",
    "from config import config as cfg"
   ]
  },
  {
   "cell_type": "code",
   "execution_count": 5,
   "metadata": {},
   "outputs": [],
   "source": [
    "ts = timestamps.load_from_path(cfg.tt_onoff_path)"
   ]
  },
  {
   "cell_type": "code",
   "execution_count": 10,
   "metadata": {},
   "outputs": [
    {
     "name": "stdout",
     "output_type": "stream",
     "text": [
      "correlations0\n",
      "\t AC0\n",
      "\t AC1\n",
      "\t CC01\n",
      "\n",
      "identity\n",
      "\t author\n",
      "\t author_affiliation\n",
      "\t creation_time\n",
      "\t creator\n",
      "\t creator_affiliation\n",
      "\t doi\n",
      "\t filename\n",
      "\t filename_full\n",
      "\t format_name\n",
      "\t format_url\n",
      "\t format_version\n",
      "\t funding\n",
      "\t license\n",
      "\t software\n",
      "\t software_version\n",
      "\t url\n",
      "\n",
      "photon_data0\n",
      "\t detectors\n",
      "\t measurement_specs\n",
      "\t timestamps\n",
      "\n",
      "sample\n",
      "\t buffer_name\n",
      "\t dye_names\n",
      "\t num_dyes\n",
      "\t sample_name\n",
      "\n",
      "setup\n",
      "\t detectors\n",
      "\t excitation_alternated\n",
      "\t excitation_backApature_powers\n",
      "\t excitation_cw\n",
      "\t excitation_wavelength\n",
      "\t lifetime\n",
      "\t modulated_excitation\n",
      "\t num_pixels\n",
      "\t num_polarization_ch\n",
      "\t num_spectral_ch\n",
      "\t num_split_ch\n",
      "\t num_spots\n",
      "\n"
     ]
    }
   ],
   "source": [
    "ts.get_h5_overview()"
   ]
  },
  {
   "cell_type": "code",
   "execution_count": 23,
   "metadata": {},
   "outputs": [
    {
     "name": "stdout",
     "output_type": "stream",
     "text": [
      "[   39609684    39621199    39623399 ... 34622953581 34622969361\n",
      " 34622970031]\n",
      "[0 1 0 ... 1 0 0]\n",
      "2\n",
      "\n",
      "\n",
      "0             39609684\n",
      "1             39623399\n",
      "2             39624689\n",
      "3             39644779\n",
      "4             39679199\n",
      "              ...     \n",
      "1533185    34622840326\n",
      "1533186    34622841871\n",
      "1533187    34622846966\n",
      "1533188    34622969361\n",
      "1533189    34622970031\n",
      "Name: timestamps0, Length: 1533190, dtype: int64\n",
      "\n",
      "\n",
      "0            39621199\n",
      "1            39895799\n",
      "2            39996744\n",
      "3            40021129\n",
      "4            40041749\n",
      "             ...     \n",
      "323061    34622000741\n",
      "323062    34622105776\n",
      "323063    34622237451\n",
      "323064    34622527566\n",
      "323065    34622953581\n",
      "Name: timestamps1, Length: 323066, dtype: int64\n"
     ]
    }
   ],
   "source": [
    "print(ts.timestamps_raw)\n",
    "print(ts.detectors_raw)\n",
    "print(ts.detector_count)\n",
    "\n",
    "print('\\n')\n",
    "print(ts.data['detector0'])\n",
    "\n",
    "print('\\n')\n",
    "print(ts.data['detector1'])"
   ]
  },
  {
   "cell_type": "code",
   "execution_count": null,
   "metadata": {},
   "outputs": [],
   "source": []
  }
 ],
 "metadata": {
  "kernelspec": {
   "display_name": "Python 3",
   "language": "python",
   "name": "python3"
  },
  "language_info": {
   "codemirror_mode": {
    "name": "ipython",
    "version": 3
   },
   "file_extension": ".py",
   "mimetype": "text/x-python",
   "name": "python",
   "nbconvert_exporter": "python",
   "pygments_lexer": "ipython3",
   "version": "3.11.4"
  },
  "orig_nbformat": 4
 },
 "nbformat": 4,
 "nbformat_minor": 2
}
